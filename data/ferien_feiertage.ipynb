{
 "cells": [
  {
   "cell_type": "code",
   "execution_count": 24,
   "metadata": {},
   "outputs": [
    {
     "name": "stdout",
     "output_type": "stream",
     "text": [
      "Ferienkalender Nordrhein-Westfalen 2018 Winterferien Winterferien\n",
      "Ferienkalender Nordrhein-Westfalen 2018 Osterferien / Frühjahrsferien Osterferien / Frühjahrsferien\n",
      "Ferienkalender Nordrhein-Westfalen 2018 Pfingstferien Pfingstferien\n",
      "Ferienkalender Nordrhein-Westfalen 2018 Sommerferien Sommerferien\n",
      "Ferienkalender Nordrhein-Westfalen 2018 Herbstferien Herbstferien\n",
      "Ferienkalender Nordrhein-Westfalen 2018 Weihnachtsferien Weihnachtsferien\n"
     ]
    }
   ],
   "source": [
    "import requests\n",
    "from bs4 import BeautifulSoup\n",
    "\n",
    "url = 'https://www.ferienkalender.com/ferien_deutschland/Nordrhein-Westfalen/2018-ferien-nordrhein-westfalen.htm'\n",
    "response = requests.get(url)\n",
    "\n",
    "soup = BeautifulSoup(response.text, 'html.parser')\n",
    "\n",
    "ferien_div = soup.find_all(\"div\", {\"class\": \"kasten\"})\n",
    "\n",
    "for div in ferien_div:\n",
    "    headline_element = div.find(\"p\", {\"class\": \"Headline\"})\n",
    "    \n",
    "    if headline_element is not None:\n",
    "        ferien_name = headline_element.text\n",
    "        table_rows = div.find_all(\"tr\")\n",
    "        \n",
    "        for row in table_rows:\n",
    "            name_element = row.find(\"a\")\n",
    "            \n",
    "            if name_element is not None:\n",
    "                ferien_type = name_element.text\n",
    "                datum = row.find(\"td\", {\"align\": \"left\"})\n",
    "                \n",
    "                if datum is not None:\n",
    "                    datum_text = datum.text.strip()  # Entferne zusätzliche Leerzeichen\n",
    "                    print(ferien_name, ferien_type, datum_text)\n"
   ]
  },
  {
   "cell_type": "code",
   "execution_count": 13,
   "metadata": {},
   "outputs": [
    {
     "name": "stdout",
     "output_type": "stream",
     "text": [
      "[<tr id=\"Neujahr\" onmouseout=\"off('Neujahr');\" onmouseover=\"on('Neujahr');\"><td align=\"left\"><b>Neujahr</b></td><td align=\"right\">Montag 01.01.2018</td></tr>, <tr id=\"Karfreitag\" onmouseout=\"off('Karfreitag');\" onmouseover=\"on('Karfreitag');\"><td align=\"left\"><b>Karfreitag</b></td><td align=\"right\">Freitag 30.03.2018</td></tr>, <tr id=\"Ostermontag\" onmouseout=\"off('Ostermontag');\" onmouseover=\"on('Ostermontag');\"><td align=\"left\"><b>Ostermontag</b></td><td align=\"right\">Montag 02.04.2018</td></tr>, <tr id=\"Tag der Arbeit\" onmouseout=\"off('Tag der Arbeit');\" onmouseover=\"on('Tag der Arbeit');\"><td align=\"left\"><b>Tag der Arbeit</b></td><td align=\"right\">Dienstag 01.05.2018</td></tr>, <tr id=\"Christi Himmelfahrt\" onmouseout=\"off('Christi Himmelfahrt');\" onmouseover=\"on('Christi Himmelfahrt');\"><td align=\"left\"><b>Christi Himmelfahrt</b></td><td align=\"right\">Donnerstag 10.05.2018</td></tr>, <tr id=\"Pfingstmontag\" onmouseout=\"off('Pfingstmontag');\" onmouseover=\"on('Pfingstmontag');\"><td align=\"left\"><b>Pfingstmontag</b></td><td align=\"right\">Montag 21.05.2018</td></tr>, <tr id=\"Fronleichnam\" onmouseout=\"off('Fronleichnam');\" onmouseover=\"on('Fronleichnam');\"><td align=\"left\"><b>Fronleichnam</b></td><td align=\"right\">Donnerstag 31.05.2018</td></tr>, <tr id=\"Tag der Deutschen Einheit\" onmouseout=\"off('Tag der Deutschen Einheit');\" onmouseover=\"on('Tag der Deutschen Einheit');\"><td align=\"left\"><b>Tag der Deutschen Einheit</b></td><td align=\"right\">Mittwoch 03.10.2018</td></tr>, <tr id=\"Allerheiligen\" onmouseout=\"off('Allerheiligen');\" onmouseover=\"on('Allerheiligen');\"><td align=\"left\"><b>Allerheiligen</b></td><td align=\"right\">Donnerstag 01.11.2018</td></tr>, <tr id=\"1. Weihnachtsfeiertag\" onmouseout=\"off('1. Weihnachtsfeiertag');\" onmouseover=\"on('1. Weihnachtsfeiertag');\"><td align=\"left\"><b>1. Weihnachtsfeiertag</b></td><td align=\"right\">Dienstag 25.12.2018</td></tr>, <tr id=\"2. Weihnachtsfeiertag\" onmouseout=\"off('2. Weihnachtsfeiertag');\" onmouseover=\"on('2. Weihnachtsfeiertag');\"><td align=\"left\"><b>2. Weihnachtsfeiertag</b></td><td align=\"right\">Mittwoch 26.12.2018</td></tr>]\n"
     ]
    }
   ],
   "source": [
    "print(table_rows)"
   ]
  },
  {
   "cell_type": "code",
   "execution_count": 39,
   "metadata": {},
   "outputs": [
    {
     "name": "stdout",
     "output_type": "stream",
     "text": [
      "[['SoSe 2011', '01.04.2011', '04.04.2011', '14.06.2011', '18.06.2011', '15.07.2011', '30.09.2011'], ['WiSe 2011/12', '01.10.2011', '10.10.2011', '27.12.2011', '06.01.2012', '03.02.2012', '31.03.2012'], ['SoSe 2012', '01.04.2012', '02.04.2012', '29.05.2012', '02.06.2012', '13.07.2012', '30.09.2012'], ['WiSe 2012/13', '01.10.2012', '08.10.2012', '24.12.2012', '04.01.2013', '01.02.2013', '31.03.2013'], ['SoSe 2013', '01.04.2013', '08.04.2013', '21.05.2013', '25.05.2013', '19.07.2013', '30.09.2013'], ['WiSe 2013/14', '01.10.2013', '14.10.2013', '23.12.2013', '03.01.2014', '07.02.2014', '31.03.2014'], ['SoSe 2014', '01.04.2014', '07.04.2014', '10.06.2014', '14.06.2014', '18.07.2014', '30.09.2014'], ['WiSe 2014/15', '01.10.2014', '06.10.2014', '22.12.2014', '02.01.2015', '06.02.2015', '31.03.2015'], ['SoSe 2015', '01.04.2015', '07.04.2015', '26.05.2015', '29.05.2015', '17.07.2015', '30.09.2015'], ['WiSe 2015/16', '01.10.2015', '19.10.2015', '23.12.2015', '06.01.2016', '12.02.2016', '31.03.2016'], ['SoSe 2016', '01.04.2016', '11.04.2016', '17.05.2016', '20.05.2016', '22.07.2016', '30.09.2016'], ['WiSe 2016/17', '01.10.2016', '17.10.2016', '23.12.2016', '06.01.2017', '10.02.2017', '31.03.2017'], ['SoSe 2017', '01.04.2017', '18.04.2017', '06.06.2017', '09.06.2017', '28.07.2017', '30.09.2017'], ['WiSe 2017/18', '01.10.2017', '09.10.2017', '27.12.2017', '05.01.2018', '02.02.2018', '31.03.2018'], ['SoSe 2018', '01.04.2018', '09.04.2018', '22.05.2018', '25.05.2018', '20.07.2018', '30.09.2018'], ['WiSe 2018/19', '01.10.2018', '08.10.2018', '21.12.2018', '04.01.2019', '01.02.2019', '31.03.2019'], ['SoSe 2019', '01.04.2019', '01.04.2019', '11.06.2019', '14.06.2019', '12.07.2019', '30.09.2019'], ['WiSe 2019/20', '01.10.2019', '07.10.2019', '23.12.2019', '06.01.2020', '31.01.2020', '31.03.2020'], ['SoSe 2020', '01.04.2020', '20.04.2020', '02.06.2020', '05.06.2020', '17.07.2020', '30.09.2020'], ['WiSe 2020/21', '01.10.2020', '02.11.2020', '23.12.2020', '06.01.2021', '12.02.2021', '31.03.2021'], ['SoSe 2021', '01.04.2021', '12.04.2021', '25.05.2021', '28.05.2021', '23.07.2021', '30.09.2021'], ['WiSe 2021/22', '01.10.2021', '11.10.2021', '24.12.2021', '07.01.2022', '04.02.2022', '31.03.2022'], ['SoSe 2022', '01.04.2022', '04.04.2022', '07.06.2022', '10.06.2022', '15.07.2022', '30.09.2022'], ['WiSe 2022/23', '01.10.2022', '10.10.2022', '23.12.2022', '06.01.2023', '03.02.2023', '31.03.2023'], ['SoSe 2023', '01.04.2023', '03.04.2023', '30.05.2023', '02.06.2023', '14.07.2023', '30.09.2023'], ['WiSe 2023/24', '01.10.2023', '09.10.2023', '21.12.2023', '05.01.2024', '02.02.2024', '31.03.2024']]\n"
     ]
    }
   ],
   "source": [
    "import requests\n",
    "from bs4 import BeautifulSoup\n",
    "\n",
    "url = 'https://www.uni-muenster.de/studium/orga/termine_archiv.html'\n",
    "response = requests.get(url)\n",
    "\n",
    "soup = BeautifulSoup(response.text, 'html.parser')\n",
    "\n",
    "ferien_datum = soup.find(\"tbody\", class_=\"tab4\")\n",
    "table_rows = ferien_datum.find_all(\"tr\")\n",
    "\n",
    "data = []\n",
    "\n",
    "for row in table_rows:\n",
    "    columns = row.find_all(\"td\")\n",
    "    row_data = [column.get_text(strip=True) for column in columns]\n",
    "    data.append(row_data)\n",
    "\n",
    "print(data)\n"
   ]
  },
  {
   "cell_type": "code",
   "execution_count": 38,
   "metadata": {},
   "outputs": [
    {
     "data": {
      "text/plain": [
       "'01.10.2023'"
      ]
     },
     "execution_count": 38,
     "metadata": {},
     "output_type": "execute_result"
    }
   ],
   "source": []
  },
  {
   "cell_type": "code",
   "execution_count": 48,
   "metadata": {},
   "outputs": [],
   "source": [
    "import pandas as pd\n",
    "\n",
    "df_sferien = pd.DataFrame({'ferien': data})\n",
    "\n",
    "column_names = ['semester', 'semester_beginn', 'vorlesungsbeginn', 'erster_ferientag', \n",
    "                'letzter_ferientag', 'vorlesungsende', 'semesterende']\n",
    "\n",
    "# Split the 'ferien' column and assign to individual columns\n",
    "df_sferien[column_names] = pd.DataFrame(df_sferien['ferien'].tolist(), columns=column_names)\n",
    "\n",
    "# Convert date strings to datetime objects\n",
    "date_columns = ['semester_beginn', 'vorlesungsbeginn', 'erster_ferientag', \n",
    "                'letzter_ferientag', 'vorlesungsende', 'semesterende']\n",
    "for col in date_columns:\n",
    "    df_sferien[col] = pd.to_datetime(df_sferien[col], format='%d.%m.%Y')\n",
    "\n",
    "# Drop the original 'ferien' column\n",
    "df_sferien.drop('ferien', axis=1, inplace=True)\n",
    "\n",
    "df_sferien.to_csv('semesterferien.csv', index=False)"
   ]
  },
  {
   "cell_type": "code",
   "execution_count": 8,
   "metadata": {},
   "outputs": [
    {
     "name": "stdout",
     "output_type": "stream",
     "text": [
      "Title-Element nicht gefunden für das Jahr: 2018\n",
      "Title-Element nicht gefunden für das Jahr: 2019\n",
      "Title-Element nicht gefunden für das Jahr: 2020\n",
      "Title-Element nicht gefunden für das Jahr: 2021\n",
      "Title-Element nicht gefunden für das Jahr: 2022\n",
      "Title-Element nicht gefunden für das Jahr: 2023\n"
     ]
    }
   ],
   "source": [
    "import requests\n",
    "from bs4 import BeautifulSoup\n",
    "import pandas as pd\n",
    "\n",
    "# URL-Zusammenstellung basierend auf dem Jahr\n",
    "base_url = \"https://www.google.com/search?q=feiertage+nrw+\"\n",
    "current_year = 2023\n",
    "end_year = current_year + 1\n",
    "\n",
    "# Liste zum Speichern der Daten\n",
    "data = []\n",
    "\n",
    "# Schleife durch die Jahre\n",
    "for year in range(2018, end_year):\n",
    "    # Erstellen der vollständigen URL für jedes Jahr\n",
    "    url = base_url + str(year)\n",
    "\n",
    "    # Senden der GET-Anfrage an die URL\n",
    "    response = requests.get(url)\n",
    "\n",
    "    # Überprüfen des Statuscodes der Antwort\n",
    "    if response.status_code == 200:\n",
    "        # Extrahieren des Title-Elements aus der angegebenen Klasse\n",
    "        soup = BeautifulSoup(response.content, 'html.parser')\n",
    "        title_element = soup.find(\"div\",class_=\"e9EfHf\")\n",
    "\n",
    "        # Überprüfen, ob das Title-Element vorhanden ist\n",
    "        if title_element:\n",
    "            # Extrahieren des Texts aus dem Title-Element\n",
    "            title = title_element.text.strip()\n",
    "\n",
    "            # Hinzufügen der Daten zum Dataframe\n",
    "            data.append({'Year': year, 'Title': title})\n",
    "        else:\n",
    "            print(\"Title-Element nicht gefunden für das Jahr:\", year)\n",
    "    else:\n",
    "        print(\"Fehler beim Abrufen der Seite für das Jahr:\", year)\n",
    "\n",
    "# Erstellen des Dataframes aus den gesammelten Daten\n",
    "df = pd.DataFrame(data)\n",
    "\n",
    "# Speichern des Dataframes in einer CSV-Datei\n",
    "#df.to_csv('feiertage.csv', index=False)\n"
   ]
  },
  {
   "cell_type": "code",
   "execution_count": 23,
   "metadata": {},
   "outputs": [
    {
     "ename": "AttributeError",
     "evalue": "'NoneType' object has no attribute 'find'",
     "output_type": "error",
     "traceback": [
      "\u001b[0;31m---------------------------------------------------------------------------\u001b[0m",
      "\u001b[0;31mAttributeError\u001b[0m                            Traceback (most recent call last)",
      "Cell \u001b[0;32mIn[23], line 34\u001b[0m\n\u001b[1;32m     31\u001b[0m div_element \u001b[39m=\u001b[39m soup\u001b[39m.\u001b[39mfind(\u001b[39m'\u001b[39m\u001b[39mdiv\u001b[39m\u001b[39m'\u001b[39m, \u001b[39mid\u001b[39m\u001b[39m=\u001b[39mdiv_id)\n\u001b[1;32m     33\u001b[0m \u001b[39m# Gewünschtes Element innerhalb des <div>-Elements finden\u001b[39;00m\n\u001b[0;32m---> 34\u001b[0m element \u001b[39m=\u001b[39m div_element\u001b[39m.\u001b[39;49mfind(class_\u001b[39m=\u001b[39mclass_name)\n\u001b[1;32m     36\u001b[0m \u001b[39m# Title und Link extrahieren\u001b[39;00m\n\u001b[1;32m     37\u001b[0m title \u001b[39m=\u001b[39m element\u001b[39m.\u001b[39mtext\n",
      "\u001b[0;31mAttributeError\u001b[0m: 'NoneType' object has no attribute 'find'"
     ]
    }
   ],
   "source": [
    "import requests\n",
    "from bs4 import BeautifulSoup\n",
    "import pandas as pd\n",
    "\n",
    "# URL und Parameter festlegen\n",
    "url = 'https://www.google.com/search?q=feiertage+nrw+2018&rlz=1C5GCEM_en&sxsrf=APwXEddmNNWkFufnJDVcyv47o60obDqOlg%3A1687436688224&ei=kD2UZLioDcCIxc8P5bW_yA8&ved=0ahUKEwi4sIfD79b_AhVARPEDHeXaD_kQ4dUDCA8&uact=5&oq=feiertage+nrw+2018&gs_lcp=Cgxnd3Mtd2l6LXNlcnAQAzIHCCMQigUQJzIGCAAQFhAeOgoIABBHENYEELADOgoIABCKBRCwAxBDOgoIABCKBRCxAxBDOgUIABCABDoQCAAQgAQQFBCHAhCxAxCDAToKCAAQgAQQFBCHAkoECEEYAFC_A1iuDGDnEWgBcAB4AIABaogB3gOSAQMyLjOYAQCgAQHAAQHIAQo&sclient=gws-wiz-serp'\n",
    "div_id = 'extabar'\n",
    "class_name = 'ct5Ked klitem-tr PZPZlf'\n",
    "\n",
    "# Zahlenliste von 2018 bis zum aktuellen Jahr + 1 erstellen\n",
    "current_year = 2023  # Aktuelles Jahr\n",
    "start_year = 2018\n",
    "end_year = current_year + 1\n",
    "year_list = list(range(start_year, end_year))\n",
    "\n",
    "# DataFrame erstellen\n",
    "df = pd.DataFrame(columns=['Year', 'Title', 'Link'])\n",
    "\n",
    "# Schleife über die Jahre\n",
    "for year in year_list:\n",
    "    # URL mit Jahr als Parameter aktualisieren\n",
    "    year_url = url.replace('2018', str(year))\n",
    "    \n",
    "    # Anfrage an die Website senden\n",
    "    response = requests.get(year_url)\n",
    "    \n",
    "    # HTML-Inhalt analysieren\n",
    "    soup = BeautifulSoup(response.text, 'html.parser')\n",
    "    \n",
    "    # Gewünschtes <div>-Element finden\n",
    "    div_element = soup.find('div', id=div_id)\n",
    "    \n",
    "    # Gewünschtes Element innerhalb des <div>-Elements finden\n",
    "    element = div_element.find(class_=class_name)\n",
    "    \n",
    "    # Title und Link extrahieren\n",
    "    title = element.text\n",
    "    link = element.find('a')['href']\n",
    "    \n",
    "    # Daten zum DataFrame hinzufügen\n",
    "    df = df.append({'Year': year, 'Title': title, 'Link': link}, ignore_index=True)\n",
    "\n",
    "# DataFrame anzeigen\n",
    "print(df)\n"
   ]
  },
  {
   "cell_type": "code",
   "execution_count": 35,
   "metadata": {},
   "outputs": [
    {
     "ename": "SSLError",
     "evalue": "HTTPSConnectionPool(host='www.feiertage-nrw.de', port=443): Max retries exceeded with url: /feiertage/2023/ (Caused by SSLError(SSLError(1, '[SSL: WRONG_VERSION_NUMBER] wrong version number (_ssl.c:1125)')))",
     "output_type": "error",
     "traceback": [
      "\u001b[0;31m---------------------------------------------------------------------------\u001b[0m",
      "\u001b[0;31mSSLError\u001b[0m                                  Traceback (most recent call last)",
      "File \u001b[0;32m~/Documents/Studium/Bachelorthesis/venv/lib/python3.8/site-packages/urllib3/connectionpool.py:467\u001b[0m, in \u001b[0;36mHTTPConnectionPool._make_request\u001b[0;34m(self, conn, method, url, body, headers, retries, timeout, chunked, response_conn, preload_content, decode_content, enforce_content_length)\u001b[0m\n\u001b[1;32m    466\u001b[0m \u001b[39mtry\u001b[39;00m:\n\u001b[0;32m--> 467\u001b[0m     \u001b[39mself\u001b[39;49m\u001b[39m.\u001b[39;49m_validate_conn(conn)\n\u001b[1;32m    468\u001b[0m \u001b[39mexcept\u001b[39;00m (SocketTimeout, BaseSSLError) \u001b[39mas\u001b[39;00m e:\n",
      "File \u001b[0;32m~/Documents/Studium/Bachelorthesis/venv/lib/python3.8/site-packages/urllib3/connectionpool.py:1092\u001b[0m, in \u001b[0;36mHTTPSConnectionPool._validate_conn\u001b[0;34m(self, conn)\u001b[0m\n\u001b[1;32m   1091\u001b[0m \u001b[39mif\u001b[39;00m conn\u001b[39m.\u001b[39mis_closed:\n\u001b[0;32m-> 1092\u001b[0m     conn\u001b[39m.\u001b[39;49mconnect()\n\u001b[1;32m   1094\u001b[0m \u001b[39mif\u001b[39;00m \u001b[39mnot\u001b[39;00m conn\u001b[39m.\u001b[39mis_verified:\n",
      "File \u001b[0;32m~/Documents/Studium/Bachelorthesis/venv/lib/python3.8/site-packages/urllib3/connection.py:635\u001b[0m, in \u001b[0;36mHTTPSConnection.connect\u001b[0;34m(self)\u001b[0m\n\u001b[1;32m    627\u001b[0m     warnings\u001b[39m.\u001b[39mwarn(\n\u001b[1;32m    628\u001b[0m         (\n\u001b[1;32m    629\u001b[0m             \u001b[39mf\u001b[39m\u001b[39m\"\u001b[39m\u001b[39mSystem time is way off (before \u001b[39m\u001b[39m{\u001b[39;00mRECENT_DATE\u001b[39m}\u001b[39;00m\u001b[39m). This will probably \u001b[39m\u001b[39m\"\u001b[39m\n\u001b[0;32m   (...)\u001b[0m\n\u001b[1;32m    632\u001b[0m         SystemTimeWarning,\n\u001b[1;32m    633\u001b[0m     )\n\u001b[0;32m--> 635\u001b[0m sock_and_verified \u001b[39m=\u001b[39m _ssl_wrap_socket_and_match_hostname(\n\u001b[1;32m    636\u001b[0m     sock\u001b[39m=\u001b[39;49msock,\n\u001b[1;32m    637\u001b[0m     cert_reqs\u001b[39m=\u001b[39;49m\u001b[39mself\u001b[39;49m\u001b[39m.\u001b[39;49mcert_reqs,\n\u001b[1;32m    638\u001b[0m     ssl_version\u001b[39m=\u001b[39;49m\u001b[39mself\u001b[39;49m\u001b[39m.\u001b[39;49mssl_version,\n\u001b[1;32m    639\u001b[0m     ssl_minimum_version\u001b[39m=\u001b[39;49m\u001b[39mself\u001b[39;49m\u001b[39m.\u001b[39;49mssl_minimum_version,\n\u001b[1;32m    640\u001b[0m     ssl_maximum_version\u001b[39m=\u001b[39;49m\u001b[39mself\u001b[39;49m\u001b[39m.\u001b[39;49mssl_maximum_version,\n\u001b[1;32m    641\u001b[0m     ca_certs\u001b[39m=\u001b[39;49m\u001b[39mself\u001b[39;49m\u001b[39m.\u001b[39;49mca_certs,\n\u001b[1;32m    642\u001b[0m     ca_cert_dir\u001b[39m=\u001b[39;49m\u001b[39mself\u001b[39;49m\u001b[39m.\u001b[39;49mca_cert_dir,\n\u001b[1;32m    643\u001b[0m     ca_cert_data\u001b[39m=\u001b[39;49m\u001b[39mself\u001b[39;49m\u001b[39m.\u001b[39;49mca_cert_data,\n\u001b[1;32m    644\u001b[0m     cert_file\u001b[39m=\u001b[39;49m\u001b[39mself\u001b[39;49m\u001b[39m.\u001b[39;49mcert_file,\n\u001b[1;32m    645\u001b[0m     key_file\u001b[39m=\u001b[39;49m\u001b[39mself\u001b[39;49m\u001b[39m.\u001b[39;49mkey_file,\n\u001b[1;32m    646\u001b[0m     key_password\u001b[39m=\u001b[39;49m\u001b[39mself\u001b[39;49m\u001b[39m.\u001b[39;49mkey_password,\n\u001b[1;32m    647\u001b[0m     server_hostname\u001b[39m=\u001b[39;49mserver_hostname,\n\u001b[1;32m    648\u001b[0m     ssl_context\u001b[39m=\u001b[39;49m\u001b[39mself\u001b[39;49m\u001b[39m.\u001b[39;49mssl_context,\n\u001b[1;32m    649\u001b[0m     tls_in_tls\u001b[39m=\u001b[39;49mtls_in_tls,\n\u001b[1;32m    650\u001b[0m     assert_hostname\u001b[39m=\u001b[39;49m\u001b[39mself\u001b[39;49m\u001b[39m.\u001b[39;49massert_hostname,\n\u001b[1;32m    651\u001b[0m     assert_fingerprint\u001b[39m=\u001b[39;49m\u001b[39mself\u001b[39;49m\u001b[39m.\u001b[39;49massert_fingerprint,\n\u001b[1;32m    652\u001b[0m )\n\u001b[1;32m    653\u001b[0m \u001b[39mself\u001b[39m\u001b[39m.\u001b[39msock \u001b[39m=\u001b[39m sock_and_verified\u001b[39m.\u001b[39msocket\n",
      "File \u001b[0;32m~/Documents/Studium/Bachelorthesis/venv/lib/python3.8/site-packages/urllib3/connection.py:774\u001b[0m, in \u001b[0;36m_ssl_wrap_socket_and_match_hostname\u001b[0;34m(sock, cert_reqs, ssl_version, ssl_minimum_version, ssl_maximum_version, cert_file, key_file, key_password, ca_certs, ca_cert_dir, ca_cert_data, assert_hostname, assert_fingerprint, server_hostname, ssl_context, tls_in_tls)\u001b[0m\n\u001b[1;32m    772\u001b[0m         server_hostname \u001b[39m=\u001b[39m normalized\n\u001b[0;32m--> 774\u001b[0m ssl_sock \u001b[39m=\u001b[39m ssl_wrap_socket(\n\u001b[1;32m    775\u001b[0m     sock\u001b[39m=\u001b[39;49msock,\n\u001b[1;32m    776\u001b[0m     keyfile\u001b[39m=\u001b[39;49mkey_file,\n\u001b[1;32m    777\u001b[0m     certfile\u001b[39m=\u001b[39;49mcert_file,\n\u001b[1;32m    778\u001b[0m     key_password\u001b[39m=\u001b[39;49mkey_password,\n\u001b[1;32m    779\u001b[0m     ca_certs\u001b[39m=\u001b[39;49mca_certs,\n\u001b[1;32m    780\u001b[0m     ca_cert_dir\u001b[39m=\u001b[39;49mca_cert_dir,\n\u001b[1;32m    781\u001b[0m     ca_cert_data\u001b[39m=\u001b[39;49mca_cert_data,\n\u001b[1;32m    782\u001b[0m     server_hostname\u001b[39m=\u001b[39;49mserver_hostname,\n\u001b[1;32m    783\u001b[0m     ssl_context\u001b[39m=\u001b[39;49mcontext,\n\u001b[1;32m    784\u001b[0m     tls_in_tls\u001b[39m=\u001b[39;49mtls_in_tls,\n\u001b[1;32m    785\u001b[0m )\n\u001b[1;32m    787\u001b[0m \u001b[39mtry\u001b[39;00m:\n",
      "File \u001b[0;32m~/Documents/Studium/Bachelorthesis/venv/lib/python3.8/site-packages/urllib3/util/ssl_.py:459\u001b[0m, in \u001b[0;36mssl_wrap_socket\u001b[0;34m(sock, keyfile, certfile, cert_reqs, ca_certs, server_hostname, ssl_version, ciphers, ssl_context, ca_cert_dir, key_password, ca_cert_data, tls_in_tls)\u001b[0m\n\u001b[1;32m    457\u001b[0m     \u001b[39mpass\u001b[39;00m\n\u001b[0;32m--> 459\u001b[0m ssl_sock \u001b[39m=\u001b[39m _ssl_wrap_socket_impl(sock, context, tls_in_tls, server_hostname)\n\u001b[1;32m    460\u001b[0m \u001b[39mreturn\u001b[39;00m ssl_sock\n",
      "File \u001b[0;32m~/Documents/Studium/Bachelorthesis/venv/lib/python3.8/site-packages/urllib3/util/ssl_.py:503\u001b[0m, in \u001b[0;36m_ssl_wrap_socket_impl\u001b[0;34m(sock, ssl_context, tls_in_tls, server_hostname)\u001b[0m\n\u001b[1;32m    501\u001b[0m     \u001b[39mreturn\u001b[39;00m SSLTransport(sock, ssl_context, server_hostname)\n\u001b[0;32m--> 503\u001b[0m \u001b[39mreturn\u001b[39;00m ssl_context\u001b[39m.\u001b[39;49mwrap_socket(sock, server_hostname\u001b[39m=\u001b[39;49mserver_hostname)\n",
      "File \u001b[0;32m/opt/anaconda3/lib/python3.8/ssl.py:500\u001b[0m, in \u001b[0;36mSSLContext.wrap_socket\u001b[0;34m(self, sock, server_side, do_handshake_on_connect, suppress_ragged_eofs, server_hostname, session)\u001b[0m\n\u001b[1;32m    494\u001b[0m \u001b[39mdef\u001b[39;00m \u001b[39mwrap_socket\u001b[39m(\u001b[39mself\u001b[39m, sock, server_side\u001b[39m=\u001b[39m\u001b[39mFalse\u001b[39;00m,\n\u001b[1;32m    495\u001b[0m                 do_handshake_on_connect\u001b[39m=\u001b[39m\u001b[39mTrue\u001b[39;00m,\n\u001b[1;32m    496\u001b[0m                 suppress_ragged_eofs\u001b[39m=\u001b[39m\u001b[39mTrue\u001b[39;00m,\n\u001b[1;32m    497\u001b[0m                 server_hostname\u001b[39m=\u001b[39m\u001b[39mNone\u001b[39;00m, session\u001b[39m=\u001b[39m\u001b[39mNone\u001b[39;00m):\n\u001b[1;32m    498\u001b[0m     \u001b[39m# SSLSocket class handles server_hostname encoding before it calls\u001b[39;00m\n\u001b[1;32m    499\u001b[0m     \u001b[39m# ctx._wrap_socket()\u001b[39;00m\n\u001b[0;32m--> 500\u001b[0m     \u001b[39mreturn\u001b[39;00m \u001b[39mself\u001b[39;49m\u001b[39m.\u001b[39;49msslsocket_class\u001b[39m.\u001b[39;49m_create(\n\u001b[1;32m    501\u001b[0m         sock\u001b[39m=\u001b[39;49msock,\n\u001b[1;32m    502\u001b[0m         server_side\u001b[39m=\u001b[39;49mserver_side,\n\u001b[1;32m    503\u001b[0m         do_handshake_on_connect\u001b[39m=\u001b[39;49mdo_handshake_on_connect,\n\u001b[1;32m    504\u001b[0m         suppress_ragged_eofs\u001b[39m=\u001b[39;49msuppress_ragged_eofs,\n\u001b[1;32m    505\u001b[0m         server_hostname\u001b[39m=\u001b[39;49mserver_hostname,\n\u001b[1;32m    506\u001b[0m         context\u001b[39m=\u001b[39;49m\u001b[39mself\u001b[39;49m,\n\u001b[1;32m    507\u001b[0m         session\u001b[39m=\u001b[39;49msession\n\u001b[1;32m    508\u001b[0m     )\n",
      "File \u001b[0;32m/opt/anaconda3/lib/python3.8/ssl.py:1040\u001b[0m, in \u001b[0;36mSSLSocket._create\u001b[0;34m(cls, sock, server_side, do_handshake_on_connect, suppress_ragged_eofs, server_hostname, context, session)\u001b[0m\n\u001b[1;32m   1039\u001b[0m             \u001b[39mraise\u001b[39;00m \u001b[39mValueError\u001b[39;00m(\u001b[39m\"\u001b[39m\u001b[39mdo_handshake_on_connect should not be specified for non-blocking sockets\u001b[39m\u001b[39m\"\u001b[39m)\n\u001b[0;32m-> 1040\u001b[0m         \u001b[39mself\u001b[39;49m\u001b[39m.\u001b[39;49mdo_handshake()\n\u001b[1;32m   1041\u001b[0m \u001b[39mexcept\u001b[39;00m (\u001b[39mOSError\u001b[39;00m, \u001b[39mValueError\u001b[39;00m):\n",
      "File \u001b[0;32m/opt/anaconda3/lib/python3.8/ssl.py:1309\u001b[0m, in \u001b[0;36mSSLSocket.do_handshake\u001b[0;34m(self, block)\u001b[0m\n\u001b[1;32m   1308\u001b[0m         \u001b[39mself\u001b[39m\u001b[39m.\u001b[39msettimeout(\u001b[39mNone\u001b[39;00m)\n\u001b[0;32m-> 1309\u001b[0m     \u001b[39mself\u001b[39;49m\u001b[39m.\u001b[39;49m_sslobj\u001b[39m.\u001b[39;49mdo_handshake()\n\u001b[1;32m   1310\u001b[0m \u001b[39mfinally\u001b[39;00m:\n",
      "\u001b[0;31mSSLError\u001b[0m: [SSL: WRONG_VERSION_NUMBER] wrong version number (_ssl.c:1125)",
      "\nDuring handling of the above exception, another exception occurred:\n",
      "\u001b[0;31mSSLError\u001b[0m                                  Traceback (most recent call last)",
      "File \u001b[0;32m~/Documents/Studium/Bachelorthesis/venv/lib/python3.8/site-packages/urllib3/connectionpool.py:790\u001b[0m, in \u001b[0;36mHTTPConnectionPool.urlopen\u001b[0;34m(self, method, url, body, headers, retries, redirect, assert_same_host, timeout, pool_timeout, release_conn, chunked, body_pos, preload_content, decode_content, **response_kw)\u001b[0m\n\u001b[1;32m    789\u001b[0m \u001b[39m# Make the request on the HTTPConnection object\u001b[39;00m\n\u001b[0;32m--> 790\u001b[0m response \u001b[39m=\u001b[39m \u001b[39mself\u001b[39;49m\u001b[39m.\u001b[39;49m_make_request(\n\u001b[1;32m    791\u001b[0m     conn,\n\u001b[1;32m    792\u001b[0m     method,\n\u001b[1;32m    793\u001b[0m     url,\n\u001b[1;32m    794\u001b[0m     timeout\u001b[39m=\u001b[39;49mtimeout_obj,\n\u001b[1;32m    795\u001b[0m     body\u001b[39m=\u001b[39;49mbody,\n\u001b[1;32m    796\u001b[0m     headers\u001b[39m=\u001b[39;49mheaders,\n\u001b[1;32m    797\u001b[0m     chunked\u001b[39m=\u001b[39;49mchunked,\n\u001b[1;32m    798\u001b[0m     retries\u001b[39m=\u001b[39;49mretries,\n\u001b[1;32m    799\u001b[0m     response_conn\u001b[39m=\u001b[39;49mresponse_conn,\n\u001b[1;32m    800\u001b[0m     preload_content\u001b[39m=\u001b[39;49mpreload_content,\n\u001b[1;32m    801\u001b[0m     decode_content\u001b[39m=\u001b[39;49mdecode_content,\n\u001b[1;32m    802\u001b[0m     \u001b[39m*\u001b[39;49m\u001b[39m*\u001b[39;49mresponse_kw,\n\u001b[1;32m    803\u001b[0m )\n\u001b[1;32m    805\u001b[0m \u001b[39m# Everything went great!\u001b[39;00m\n",
      "File \u001b[0;32m~/Documents/Studium/Bachelorthesis/venv/lib/python3.8/site-packages/urllib3/connectionpool.py:491\u001b[0m, in \u001b[0;36mHTTPConnectionPool._make_request\u001b[0;34m(self, conn, method, url, body, headers, retries, timeout, chunked, response_conn, preload_content, decode_content, enforce_content_length)\u001b[0m\n\u001b[1;32m    490\u001b[0m         new_e \u001b[39m=\u001b[39m _wrap_proxy_error(new_e, conn\u001b[39m.\u001b[39mproxy\u001b[39m.\u001b[39mscheme)\n\u001b[0;32m--> 491\u001b[0m     \u001b[39mraise\u001b[39;00m new_e\n\u001b[1;32m    493\u001b[0m \u001b[39m# conn.request() calls http.client.*.request, not the method in\u001b[39;00m\n\u001b[1;32m    494\u001b[0m \u001b[39m# urllib3.request. It also calls makefile (recv) on the socket.\u001b[39;00m\n",
      "\u001b[0;31mSSLError\u001b[0m: [SSL: WRONG_VERSION_NUMBER] wrong version number (_ssl.c:1125)",
      "\nThe above exception was the direct cause of the following exception:\n",
      "\u001b[0;31mMaxRetryError\u001b[0m                             Traceback (most recent call last)",
      "File \u001b[0;32m~/Documents/Studium/Bachelorthesis/venv/lib/python3.8/site-packages/requests/adapters.py:486\u001b[0m, in \u001b[0;36mHTTPAdapter.send\u001b[0;34m(self, request, stream, timeout, verify, cert, proxies)\u001b[0m\n\u001b[1;32m    485\u001b[0m \u001b[39mtry\u001b[39;00m:\n\u001b[0;32m--> 486\u001b[0m     resp \u001b[39m=\u001b[39m conn\u001b[39m.\u001b[39;49murlopen(\n\u001b[1;32m    487\u001b[0m         method\u001b[39m=\u001b[39;49mrequest\u001b[39m.\u001b[39;49mmethod,\n\u001b[1;32m    488\u001b[0m         url\u001b[39m=\u001b[39;49murl,\n\u001b[1;32m    489\u001b[0m         body\u001b[39m=\u001b[39;49mrequest\u001b[39m.\u001b[39;49mbody,\n\u001b[1;32m    490\u001b[0m         headers\u001b[39m=\u001b[39;49mrequest\u001b[39m.\u001b[39;49mheaders,\n\u001b[1;32m    491\u001b[0m         redirect\u001b[39m=\u001b[39;49m\u001b[39mFalse\u001b[39;49;00m,\n\u001b[1;32m    492\u001b[0m         assert_same_host\u001b[39m=\u001b[39;49m\u001b[39mFalse\u001b[39;49;00m,\n\u001b[1;32m    493\u001b[0m         preload_content\u001b[39m=\u001b[39;49m\u001b[39mFalse\u001b[39;49;00m,\n\u001b[1;32m    494\u001b[0m         decode_content\u001b[39m=\u001b[39;49m\u001b[39mFalse\u001b[39;49;00m,\n\u001b[1;32m    495\u001b[0m         retries\u001b[39m=\u001b[39;49m\u001b[39mself\u001b[39;49m\u001b[39m.\u001b[39;49mmax_retries,\n\u001b[1;32m    496\u001b[0m         timeout\u001b[39m=\u001b[39;49mtimeout,\n\u001b[1;32m    497\u001b[0m         chunked\u001b[39m=\u001b[39;49mchunked,\n\u001b[1;32m    498\u001b[0m     )\n\u001b[1;32m    500\u001b[0m \u001b[39mexcept\u001b[39;00m (ProtocolError, \u001b[39mOSError\u001b[39;00m) \u001b[39mas\u001b[39;00m err:\n",
      "File \u001b[0;32m~/Documents/Studium/Bachelorthesis/venv/lib/python3.8/site-packages/urllib3/connectionpool.py:844\u001b[0m, in \u001b[0;36mHTTPConnectionPool.urlopen\u001b[0;34m(self, method, url, body, headers, retries, redirect, assert_same_host, timeout, pool_timeout, release_conn, chunked, body_pos, preload_content, decode_content, **response_kw)\u001b[0m\n\u001b[1;32m    842\u001b[0m     new_e \u001b[39m=\u001b[39m ProtocolError(\u001b[39m\"\u001b[39m\u001b[39mConnection aborted.\u001b[39m\u001b[39m\"\u001b[39m, new_e)\n\u001b[0;32m--> 844\u001b[0m retries \u001b[39m=\u001b[39m retries\u001b[39m.\u001b[39;49mincrement(\n\u001b[1;32m    845\u001b[0m     method, url, error\u001b[39m=\u001b[39;49mnew_e, _pool\u001b[39m=\u001b[39;49m\u001b[39mself\u001b[39;49m, _stacktrace\u001b[39m=\u001b[39;49msys\u001b[39m.\u001b[39;49mexc_info()[\u001b[39m2\u001b[39;49m]\n\u001b[1;32m    846\u001b[0m )\n\u001b[1;32m    847\u001b[0m retries\u001b[39m.\u001b[39msleep()\n",
      "File \u001b[0;32m~/Documents/Studium/Bachelorthesis/venv/lib/python3.8/site-packages/urllib3/util/retry.py:515\u001b[0m, in \u001b[0;36mRetry.increment\u001b[0;34m(self, method, url, response, error, _pool, _stacktrace)\u001b[0m\n\u001b[1;32m    514\u001b[0m     reason \u001b[39m=\u001b[39m error \u001b[39mor\u001b[39;00m ResponseError(cause)\n\u001b[0;32m--> 515\u001b[0m     \u001b[39mraise\u001b[39;00m MaxRetryError(_pool, url, reason) \u001b[39mfrom\u001b[39;00m \u001b[39mreason\u001b[39;00m  \u001b[39m# type: ignore[arg-type]\u001b[39;00m\n\u001b[1;32m    517\u001b[0m log\u001b[39m.\u001b[39mdebug(\u001b[39m\"\u001b[39m\u001b[39mIncremented Retry for (url=\u001b[39m\u001b[39m'\u001b[39m\u001b[39m%s\u001b[39;00m\u001b[39m'\u001b[39m\u001b[39m): \u001b[39m\u001b[39m%r\u001b[39;00m\u001b[39m\"\u001b[39m, url, new_retry)\n",
      "\u001b[0;31mMaxRetryError\u001b[0m: HTTPSConnectionPool(host='www.feiertage-nrw.de', port=443): Max retries exceeded with url: /feiertage/2023/ (Caused by SSLError(SSLError(1, '[SSL: WRONG_VERSION_NUMBER] wrong version number (_ssl.c:1125)')))",
      "\nDuring handling of the above exception, another exception occurred:\n",
      "\u001b[0;31mSSLError\u001b[0m                                  Traceback (most recent call last)",
      "Cell \u001b[0;32mIn[35], line 6\u001b[0m\n\u001b[1;32m      3\u001b[0m \u001b[39mimport\u001b[39;00m \u001b[39mcsv\u001b[39;00m\n\u001b[1;32m      5\u001b[0m url \u001b[39m=\u001b[39m \u001b[39m\"\u001b[39m\u001b[39mhttps://www.feiertage-nrw.de/feiertage/2023/\u001b[39m\u001b[39m\"\u001b[39m\n\u001b[0;32m----> 6\u001b[0m response \u001b[39m=\u001b[39m requests\u001b[39m.\u001b[39;49mget(url)\n\u001b[1;32m      7\u001b[0m soup \u001b[39m=\u001b[39m BeautifulSoup(response\u001b[39m.\u001b[39mcontent, \u001b[39m\"\u001b[39m\u001b[39mhtml.parser\u001b[39m\u001b[39m\"\u001b[39m)\n\u001b[1;32m      9\u001b[0m elements \u001b[39m=\u001b[39m soup\u001b[39m.\u001b[39mfind_all(\u001b[39m\"\u001b[39m\u001b[39mtr\u001b[39m\u001b[39m\"\u001b[39m, class_\u001b[39m=\u001b[39m\u001b[39m\"\u001b[39m\u001b[39mfeiertag\u001b[39m\u001b[39m\"\u001b[39m)\n",
      "File \u001b[0;32m~/Documents/Studium/Bachelorthesis/venv/lib/python3.8/site-packages/requests/api.py:73\u001b[0m, in \u001b[0;36mget\u001b[0;34m(url, params, **kwargs)\u001b[0m\n\u001b[1;32m     62\u001b[0m \u001b[39mdef\u001b[39;00m \u001b[39mget\u001b[39m(url, params\u001b[39m=\u001b[39m\u001b[39mNone\u001b[39;00m, \u001b[39m*\u001b[39m\u001b[39m*\u001b[39mkwargs):\n\u001b[1;32m     63\u001b[0m \u001b[39m    \u001b[39m\u001b[39mr\u001b[39m\u001b[39m\"\"\"Sends a GET request.\u001b[39;00m\n\u001b[1;32m     64\u001b[0m \n\u001b[1;32m     65\u001b[0m \u001b[39m    :param url: URL for the new :class:`Request` object.\u001b[39;00m\n\u001b[0;32m   (...)\u001b[0m\n\u001b[1;32m     70\u001b[0m \u001b[39m    :rtype: requests.Response\u001b[39;00m\n\u001b[1;32m     71\u001b[0m \u001b[39m    \"\"\"\u001b[39;00m\n\u001b[0;32m---> 73\u001b[0m     \u001b[39mreturn\u001b[39;00m request(\u001b[39m\"\u001b[39;49m\u001b[39mget\u001b[39;49m\u001b[39m\"\u001b[39;49m, url, params\u001b[39m=\u001b[39;49mparams, \u001b[39m*\u001b[39;49m\u001b[39m*\u001b[39;49mkwargs)\n",
      "File \u001b[0;32m~/Documents/Studium/Bachelorthesis/venv/lib/python3.8/site-packages/requests/api.py:59\u001b[0m, in \u001b[0;36mrequest\u001b[0;34m(method, url, **kwargs)\u001b[0m\n\u001b[1;32m     55\u001b[0m \u001b[39m# By using the 'with' statement we are sure the session is closed, thus we\u001b[39;00m\n\u001b[1;32m     56\u001b[0m \u001b[39m# avoid leaving sockets open which can trigger a ResourceWarning in some\u001b[39;00m\n\u001b[1;32m     57\u001b[0m \u001b[39m# cases, and look like a memory leak in others.\u001b[39;00m\n\u001b[1;32m     58\u001b[0m \u001b[39mwith\u001b[39;00m sessions\u001b[39m.\u001b[39mSession() \u001b[39mas\u001b[39;00m session:\n\u001b[0;32m---> 59\u001b[0m     \u001b[39mreturn\u001b[39;00m session\u001b[39m.\u001b[39;49mrequest(method\u001b[39m=\u001b[39;49mmethod, url\u001b[39m=\u001b[39;49murl, \u001b[39m*\u001b[39;49m\u001b[39m*\u001b[39;49mkwargs)\n",
      "File \u001b[0;32m~/Documents/Studium/Bachelorthesis/venv/lib/python3.8/site-packages/requests/sessions.py:589\u001b[0m, in \u001b[0;36mSession.request\u001b[0;34m(self, method, url, params, data, headers, cookies, files, auth, timeout, allow_redirects, proxies, hooks, stream, verify, cert, json)\u001b[0m\n\u001b[1;32m    584\u001b[0m send_kwargs \u001b[39m=\u001b[39m {\n\u001b[1;32m    585\u001b[0m     \u001b[39m\"\u001b[39m\u001b[39mtimeout\u001b[39m\u001b[39m\"\u001b[39m: timeout,\n\u001b[1;32m    586\u001b[0m     \u001b[39m\"\u001b[39m\u001b[39mallow_redirects\u001b[39m\u001b[39m\"\u001b[39m: allow_redirects,\n\u001b[1;32m    587\u001b[0m }\n\u001b[1;32m    588\u001b[0m send_kwargs\u001b[39m.\u001b[39mupdate(settings)\n\u001b[0;32m--> 589\u001b[0m resp \u001b[39m=\u001b[39m \u001b[39mself\u001b[39;49m\u001b[39m.\u001b[39;49msend(prep, \u001b[39m*\u001b[39;49m\u001b[39m*\u001b[39;49msend_kwargs)\n\u001b[1;32m    591\u001b[0m \u001b[39mreturn\u001b[39;00m resp\n",
      "File \u001b[0;32m~/Documents/Studium/Bachelorthesis/venv/lib/python3.8/site-packages/requests/sessions.py:703\u001b[0m, in \u001b[0;36mSession.send\u001b[0;34m(self, request, **kwargs)\u001b[0m\n\u001b[1;32m    700\u001b[0m start \u001b[39m=\u001b[39m preferred_clock()\n\u001b[1;32m    702\u001b[0m \u001b[39m# Send the request\u001b[39;00m\n\u001b[0;32m--> 703\u001b[0m r \u001b[39m=\u001b[39m adapter\u001b[39m.\u001b[39;49msend(request, \u001b[39m*\u001b[39;49m\u001b[39m*\u001b[39;49mkwargs)\n\u001b[1;32m    705\u001b[0m \u001b[39m# Total elapsed time of the request (approximately)\u001b[39;00m\n\u001b[1;32m    706\u001b[0m elapsed \u001b[39m=\u001b[39m preferred_clock() \u001b[39m-\u001b[39m start\n",
      "File \u001b[0;32m~/Documents/Studium/Bachelorthesis/venv/lib/python3.8/site-packages/requests/adapters.py:517\u001b[0m, in \u001b[0;36mHTTPAdapter.send\u001b[0;34m(self, request, stream, timeout, verify, cert, proxies)\u001b[0m\n\u001b[1;32m    513\u001b[0m         \u001b[39mraise\u001b[39;00m ProxyError(e, request\u001b[39m=\u001b[39mrequest)\n\u001b[1;32m    515\u001b[0m     \u001b[39mif\u001b[39;00m \u001b[39misinstance\u001b[39m(e\u001b[39m.\u001b[39mreason, _SSLError):\n\u001b[1;32m    516\u001b[0m         \u001b[39m# This branch is for urllib3 v1.22 and later.\u001b[39;00m\n\u001b[0;32m--> 517\u001b[0m         \u001b[39mraise\u001b[39;00m SSLError(e, request\u001b[39m=\u001b[39mrequest)\n\u001b[1;32m    519\u001b[0m     \u001b[39mraise\u001b[39;00m \u001b[39mConnectionError\u001b[39;00m(e, request\u001b[39m=\u001b[39mrequest)\n\u001b[1;32m    521\u001b[0m \u001b[39mexcept\u001b[39;00m ClosedPoolError \u001b[39mas\u001b[39;00m e:\n",
      "\u001b[0;31mSSLError\u001b[0m: HTTPSConnectionPool(host='www.feiertage-nrw.de', port=443): Max retries exceeded with url: /feiertage/2023/ (Caused by SSLError(SSLError(1, '[SSL: WRONG_VERSION_NUMBER] wrong version number (_ssl.c:1125)')))"
     ]
    }
   ],
   "source": [
    "import requests\n",
    "from bs4 import BeautifulSoup\n",
    "import csv\n",
    "\n",
    "url = \"https://www.feiertage-nrw.de/feiertage/2023/\"\n",
    "response = requests.get(url)\n",
    "soup = BeautifulSoup(response.content, \"html.parser\")\n",
    "\n",
    "elements = soup.find_all(\"tr\", class_=\"feiertag\")\n",
    "\n",
    "with open(\"feiertage.csv\", \"w\", newline=\"\") as csvfile:\n",
    "  writer = csv.writer(csvfile, delimiter=\",\")\n",
    "  writer.writerow([\"Name\", \"Date\"])\n",
    "\n",
    "  for element in elements:\n",
    "    name = element.find(\"td\", class_=\"name\").text\n",
    "    date = element.find(\"td\", class_=\"date\").text\n",
    "    writer.writerow([name, date])\n"
   ]
  },
  {
   "cell_type": "code",
   "execution_count": 32,
   "metadata": {},
   "outputs": [
    {
     "ename": "NameError",
     "evalue": "name 'name' is not defined",
     "output_type": "error",
     "traceback": [
      "\u001b[0;31m---------------------------------------------------------------------------\u001b[0m",
      "\u001b[0;31mNameError\u001b[0m                                 Traceback (most recent call last)",
      "Cell \u001b[0;32mIn[32], line 1\u001b[0m\n\u001b[0;32m----> 1\u001b[0m name\n",
      "\u001b[0;31mNameError\u001b[0m: name 'name' is not defined"
     ]
    }
   ],
   "source": []
  },
  {
   "cell_type": "code",
   "execution_count": null,
   "metadata": {},
   "outputs": [],
   "source": []
  }
 ],
 "metadata": {
  "kernelspec": {
   "display_name": "venv",
   "language": "python",
   "name": "python3"
  },
  "language_info": {
   "codemirror_mode": {
    "name": "ipython",
    "version": 3
   },
   "file_extension": ".py",
   "mimetype": "text/x-python",
   "name": "python",
   "nbconvert_exporter": "python",
   "pygments_lexer": "ipython3",
   "version": "3.8.8"
  },
  "orig_nbformat": 4
 },
 "nbformat": 4,
 "nbformat_minor": 2
}
