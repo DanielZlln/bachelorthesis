{
 "cells": [
  {
   "cell_type": "code",
   "execution_count": 1,
   "metadata": {},
   "outputs": [],
   "source": [
    "import pandas as pd\n",
    "from dateutil.relativedelta import relativedelta\n",
    "from datetime import datetime, timedelta, date\n",
    "\n",
    "def load_data():\n",
    "    neutor_xlsx = pd.read_excel('/Users/danielzellner/Documents/Studium/Bachelorthesis/src/Zaehlstelle_Neutor_2020_Stundenauswertung.xlsx', \n",
    "                                sheet_name=None, \n",
    "                                skiprows=2,\n",
    "                                skipfooter=1,\n",
    "                                engine='openpyxl')\n",
    "\n",
    "    df_neutor = pd.concat(neutor_xlsx.values(), ignore_index=True)\n",
    "    \n",
    "    #df_neutor['Datum'] = datetime.strftime(df_neutor['Zeit'], '%Y-%m-%d')\n",
    "    df_neutor['Datum'] = pd.to_datetime(df_neutor['Zeit'], format='%Y-%m-%d').dt.date.astype(str)\n",
    "    df_neutor['Zeit'] = pd.to_datetime(df_neutor['Zeit']).dt.time\n",
    "    \n",
    "    df_neutor = df_neutor.drop(columns='Unnamed: 0')\n",
    "    \n",
    "    return df_neutor\n",
    "    \n",
    "def neutor_weekday():\n",
    "    \n",
    "    df_neutor = load_data()\n",
    "    \n",
    "    # Variable fuer Neutor und mean\n",
    "    \n",
    "    df_neutor_weekday = df_neutor.groupby('Datum', dropna=False).agg({'Neutor': 'sum', \n",
    "                                                                      'Neutor FR stadteinwärts': 'sum',\n",
    "                                                                      'Neutor FR stadtauswärts': 'sum'})\n",
    "    df_neutor_weekday.index = pd.to_datetime(df_neutor_weekday.index)\n",
    "    df_neutor_weekday['Wochentag'] = df_neutor_weekday.index.day_name()\n",
    "    \n",
    "    df_neutor_weekday = df_neutor_weekday.reset_index()\n",
    "    \n",
    "    return df_neutor_weekday\n",
    "\n",
    "def neutor_last_week():\n",
    "    df_neutor_weekday = neutor_weekday()\n",
    "    \n",
    "    to_day = date.today()\n",
    "    new_to_day = to_day + relativedelta(years=-3)\n",
    "    last_week = date.today() - timedelta(days=7)\n",
    "    new_date = last_week + relativedelta(years=-3)\n",
    "\n",
    "    new_date = pd.to_datetime(new_date)\n",
    "    last_week = pd.to_datetime(last_week)\n",
    "    new_to_day = pd.to_datetime(new_to_day)\n",
    "\n",
    "\n",
    "    df_neutor_last_week = df_neutor_weekday.loc[\n",
    "        (df_neutor_weekday['Datum'] >= new_date) &\n",
    "        (df_neutor_weekday['Datum'] < last_week) &\n",
    "        (df_neutor_weekday['Datum'] < new_to_day)\n",
    "    ]\n",
    "\n",
    "    return df_neutor_last_week\n",
    "\n",
    "\n",
    "df_neutor = load_data()\n",
    "df_neutor_weekday = neutor_weekday()\n",
    "df_neutor_last_week = neutor_last_week()"
   ]
  },
  {
   "cell_type": "code",
   "execution_count": 2,
   "metadata": {},
   "outputs": [
    {
     "name": "stdout",
     "output_type": "stream",
     "text": [
      "          Zeit  Neutor  Neutor FR stadteinwärts  Neutor FR stadtauswärts   \n",
      "0     00:00:00   110.0                     47.0                     63.0  \\\n",
      "1     01:00:00   177.0                     78.0                     99.0   \n",
      "2     02:00:00   258.0                    116.0                    142.0   \n",
      "3     03:00:00   233.0                     75.0                    158.0   \n",
      "4     04:00:00   190.0                     70.0                    120.0   \n",
      "...        ...     ...                      ...                      ...   \n",
      "8779  19:00:00   159.0                     82.0                     77.0   \n",
      "8780  20:00:00    60.0                     29.0                     31.0   \n",
      "8781  21:00:00    40.0                     17.0                     23.0   \n",
      "8782  22:00:00    31.0                     15.0                     16.0   \n",
      "8783  23:00:00    38.0                     20.0                     18.0   \n",
      "\n",
      "                             Wetter  Temperatur (°C)  Luftfeuchtigkeit (%)   \n",
      "0                    Leichter Nebel              1.0                  95.0  \\\n",
      "1                    Leichter Nebel              1.0                  94.0   \n",
      "2                    Leichter Nebel              1.0                  94.0   \n",
      "3                    Leichter Nebel              1.0                  93.0   \n",
      "4                    Leichter Nebel              1.0                  93.0   \n",
      "...                             ...              ...                   ...   \n",
      "8779  Mäßige bis starke Schneefälle              2.0                  87.0   \n",
      "8780                        Bedeckt              2.0                  87.0   \n",
      "8781                        Bedeckt              2.0                  87.0   \n",
      "8782                        Bedeckt              1.0                  88.0   \n",
      "8783                        Bewölkt              0.0                  90.0   \n",
      "\n",
      "      Regen (mm)  Wind (km/h)       Datum  \n",
      "0            0.0          6.0  2020-01-01  \n",
      "1            0.0          6.0  2020-01-01  \n",
      "2            0.0          5.0  2020-01-01  \n",
      "3            0.0          5.0  2020-01-01  \n",
      "4            0.0          5.0  2020-01-01  \n",
      "...          ...          ...         ...  \n",
      "8779         0.0          7.0  2020-12-31  \n",
      "8780         0.0          7.0  2020-12-31  \n",
      "8781         0.0          8.0  2020-12-31  \n",
      "8782         0.0          7.0  2020-12-31  \n",
      "8783         0.0          6.0  2020-12-31  \n",
      "\n",
      "[8784 rows x 10 columns]\n"
     ]
    }
   ],
   "source": [
    "print(df_neutor)"
   ]
  },
  {
   "cell_type": "code",
   "execution_count": 12,
   "metadata": {},
   "outputs": [
    {
     "data": {
      "text/plain": [
       "'2020-01-16'"
      ]
     },
     "execution_count": 12,
     "metadata": {},
     "output_type": "execute_result"
    }
   ],
   "source": [
    "df_neutor.groupby('Datum')['Neutor'].sum().idxmax()"
   ]
  },
  {
   "cell_type": "code",
   "execution_count": 14,
   "metadata": {},
   "outputs": [],
   "source": [
    "result = df_neutor.groupby('Datum')['Neutor'].sum()"
   ]
  },
  {
   "cell_type": "code",
   "execution_count": 16,
   "metadata": {},
   "outputs": [
    {
     "name": "stdout",
     "output_type": "stream",
     "text": [
      "Datum\n",
      "2020-01-01    2552.0\n",
      "2020-01-02    5098.0\n",
      "2020-01-03    4984.0\n",
      "2020-01-04    4749.0\n",
      "2020-01-05    4361.0\n",
      "               ...  \n",
      "2020-12-27     649.0\n",
      "2020-12-28    2863.0\n",
      "2020-12-29    2596.0\n",
      "2020-12-30    3217.0\n",
      "2020-12-31    2142.0\n",
      "Name: Neutor, Length: 366, dtype: float64\n"
     ]
    }
   ],
   "source": [
    "print(result)"
   ]
  },
  {
   "cell_type": "code",
   "execution_count": 19,
   "metadata": {},
   "outputs": [
    {
     "data": {
      "text/plain": [
       "'2020-12-27'"
      ]
     },
     "execution_count": 19,
     "metadata": {},
     "output_type": "execute_result"
    }
   ],
   "source": [
    "df_neutor.groupby('Datum')['Neutor'].sum().idxmin()\n"
   ]
  },
  {
   "cell_type": "code",
   "execution_count": 20,
   "metadata": {},
   "outputs": [
    {
     "data": {
      "text/plain": [
       "649.0"
      ]
     },
     "execution_count": 20,
     "metadata": {},
     "output_type": "execute_result"
    }
   ],
   "source": [
    "df_neutor.groupby('Datum')['Neutor'].sum().min()"
   ]
  },
  {
   "cell_type": "code",
   "execution_count": 28,
   "metadata": {},
   "outputs": [
    {
     "data": {
      "text/plain": [
       "689.0"
      ]
     },
     "execution_count": 28,
     "metadata": {},
     "output_type": "execute_result"
    }
   ],
   "source": [
    "df_neutor.groupby('Zeit')['Neutor'].mean().max().round()"
   ]
  },
  {
   "cell_type": "code",
   "execution_count": 31,
   "metadata": {},
   "outputs": [
    {
     "data": {
      "text/plain": [
       "datetime.time(17, 0)"
      ]
     },
     "execution_count": 31,
     "metadata": {},
     "output_type": "execute_result"
    }
   ],
   "source": [
    "df_neutor.groupby('Zeit')['Neutor'].mean().idxmax()"
   ]
  },
  {
   "cell_type": "code",
   "execution_count": 32,
   "metadata": {},
   "outputs": [
    {
     "name": "stdout",
     "output_type": "stream",
     "text": [
      "Uhrzeit: 17:00\n"
     ]
    }
   ],
   "source": [
    "max_time = df_neutor.groupby('Zeit')['Neutor'].mean().idxmax()\n",
    "formatted_time = max_time.strftime(\"%H:%M\")\n",
    "\n",
    "print(\"Uhrzeit:\", formatted_time)\n"
   ]
  },
  {
   "cell_type": "code",
   "execution_count": 9,
   "metadata": {},
   "outputs": [
    {
     "name": "stdout",
     "output_type": "stream",
     "text": [
      "/Users/danielzellner/Documents/Studium/Bachelorthesis/data\n",
      "/Users/danielzellner/Documents/Studium/Bachelorthesis\n",
      "/Users/danielzellner/Documents/Studium/Bachelorthesis/src/Zaehlstelle_Neutor_2020_Stundenauswertung.xlsx\n"
     ]
    }
   ],
   "source": [
    "from pathlib import Path\n",
    "\n",
    "script_directory = Path.cwd()\n",
    "parent_directory = script_directory.parent\n",
    "file_path = parent_directory / 'src' / 'Zaehlstelle_Neutor_2020_Stundenauswertung.xlsx'\n",
    "\n",
    "print(script_directory)\n",
    "print(parent_directory)\n",
    "print(file_path)"
   ]
  },
  {
   "cell_type": "code",
   "execution_count": null,
   "metadata": {},
   "outputs": [],
   "source": []
  }
 ],
 "metadata": {
  "kernelspec": {
   "display_name": "venv",
   "language": "python",
   "name": "python3"
  },
  "language_info": {
   "codemirror_mode": {
    "name": "ipython",
    "version": 3
   },
   "file_extension": ".py",
   "mimetype": "text/x-python",
   "name": "python",
   "nbconvert_exporter": "python",
   "pygments_lexer": "ipython3",
   "version": "3.8.8"
  },
  "orig_nbformat": 4
 },
 "nbformat": 4,
 "nbformat_minor": 2
}
