{
 "cells": [
  {
   "cell_type": "code",
   "execution_count": 9,
   "metadata": {},
   "outputs": [],
   "source": [
    "import pandas as pd\n",
    "from dateutil.relativedelta import relativedelta\n",
    "from datetime import datetime, timedelta, date\n",
    "\n",
    "def load_data():\n",
    "    neutor_xlsx = pd.read_excel('/Users/danielzellner/Documents/Studium/Bachelorthesis/src/Zaehlstelle_Neutor_2020_Stundenauswertung.xlsx', \n",
    "                                sheet_name=None, \n",
    "                                skiprows=2,\n",
    "                                skipfooter=1,\n",
    "                                engine='openpyxl')\n",
    "\n",
    "    df_neutor = pd.concat(neutor_xlsx.values(), ignore_index=True)\n",
    "    \n",
    "    #df_neutor['Datum'] = datetime.strftime(df_neutor['Zeit'], '%Y-%m-%d')\n",
    "    df_neutor['Datum'] = pd.to_datetime(df_neutor['Zeit'], format='%Y-%m-%d').dt.date.astype(str)\n",
    "    df_neutor['Zeit'] = pd.to_datetime(df_neutor['Zeit']).dt.time\n",
    "    \n",
    "    df_neutor = df_neutor.drop(columns='Unnamed: 0')\n",
    "    \n",
    "    return df_neutor\n",
    "    \n",
    "def neutor_weekday():\n",
    "    \n",
    "    df_neutor = load_data()\n",
    "    \n",
    "    # Variable fuer Neutor und mean\n",
    "    \n",
    "    df_neutor_weekday = df_neutor.groupby('Datum', dropna=False).agg({'Neutor': 'sum', \n",
    "                                                                      'Neutor FR stadteinwärts': 'sum',\n",
    "                                                                      'Neutor FR stadtauswärts': 'sum'})\n",
    "    df_neutor_weekday.index = pd.to_datetime(df_neutor_weekday.index)\n",
    "    df_neutor_weekday['Wochentag'] = df_neutor_weekday.index.day_name()\n",
    "    \n",
    "    df_neutor_weekday = df_neutor_weekday.reset_index()\n",
    "    \n",
    "    return df_neutor_weekday\n",
    "\n",
    "def neutor_last_week():\n",
    "    df_neutor_weekday = neutor_weekday()\n",
    "    \n",
    "    to_day = date.today()\n",
    "    new_to_day = to_day + relativedelta(years=-3)\n",
    "    last_week = date.today() - timedelta(days=7)\n",
    "    new_date = last_week + relativedelta(years=-3)\n",
    "\n",
    "    new_date = pd.to_datetime(new_date)\n",
    "    last_week = pd.to_datetime(last_week)\n",
    "    new_to_day = pd.to_datetime(new_to_day)\n",
    "\n",
    "\n",
    "    df_neutor_last_week = (df_neutor_weekday['Datum'] >= new_date) & (df_neutor_weekday['Datum'] < last_week) & (df_neutor_weekday['Datum'] < new_to_day)\n",
    "    df_neutor_last_week = df_neutor_weekday.loc[df_neutor_last_week]\n",
    "\n",
    "    return df_neutor_last_week\n",
    "\n",
    "if __name__ == \"__main__\":\n",
    "    df_neutor = load_data()\n",
    "    df_neutor_weekday = neutor_weekday()\n",
    "    df_neutor_last_week = neutor_last_week()"
   ]
  },
  {
   "cell_type": "code",
   "execution_count": 3,
   "metadata": {},
   "outputs": [],
   "source": [
    "df_neutor_weekday = neutor_weekday()\n",
    "    \n",
    "to_day = date.today()\n",
    "new_to_day = to_day + relativedelta(years=-3)\n",
    "last_week = date.today() - timedelta(days=7)\n",
    "new_date = last_week + relativedelta(years=-3)\n",
    "\n",
    "new_date = pd.to_datetime(new_date)\n",
    "last_week = pd.to_datetime(last_week)\n",
    "new_to_day = pd.to_datetime(new_to_day)\n",
    "\n",
    "\n",
    "df_neutor_last_week = (df_neutor_weekday['Datum'] >= new_date) & (df_neutor_weekday['Datum'] < last_week) & (df_neutor_weekday['Datum'] < new_to_day)\n",
    "df_neutor_last_week = df_neutor_weekday.loc[df_neutor_last_week]"
   ]
  },
  {
   "cell_type": "code",
   "execution_count": 21,
   "metadata": {},
   "outputs": [
    {
     "name": "stdout",
     "output_type": "stream",
     "text": [
      "2020-05-14 2020-05-07\n"
     ]
    }
   ],
   "source": [
    "df_neutor_weekday = neutor_weekday()\n",
    "    \n",
    "to_day = date.today()\n",
    "new_to_day = to_day + relativedelta(years=-3)\n",
    "last_week = date.today() - timedelta(days=7)\n",
    "new_date = last_week + relativedelta(years=-3)\n",
    "\n",
    "print(new_to_day, new_date)"
   ]
  },
  {
   "cell_type": "code",
   "execution_count": null,
   "metadata": {},
   "outputs": [],
   "source": [
    "df_neutor_weekday = neutor_weekday()\n",
    "    \n",
    "to_day = date.today() - timedelta(days=1)\n",
    "new_to_day = to_day + relativedelta(years=-3)\n",
    "last_week = date.today() - timedelta(days=8)\n",
    "new_date = last_week + relativedelta(years=-3)\n",
    "\n",
    "print(type(new_date))"
   ]
  },
  {
   "cell_type": "code",
   "execution_count": 20,
   "metadata": {},
   "outputs": [
    {
     "name": "stdout",
     "output_type": "stream",
     "text": [
      "<class 'str'>\n"
     ]
    }
   ],
   "source": [
    "print(type(df_neutor['Datum'][1]))"
   ]
  },
  {
   "cell_type": "code",
   "execution_count": null,
   "metadata": {},
   "outputs": [],
   "source": [
    "neutor_xlsx = pd.read_excel('/Users/danielzellner/Documents/Studium/Bachelorthesis/src/Zaehlstelle_Neutor_2020_Stundenauswertung.xlsx', \n",
    "                                sheet_name=None, \n",
    "                                skiprows=2,\n",
    "                                skipfooter=1,\n",
    "                                engine='openpyxl')\n",
    "\n",
    "df_neutor = pd.concat(neutor_xlsx.values(), ignore_index=True)\n",
    "\n",
    "df_neutor.timeStamp = pd.to_datetime(df_neutor['Zeit'].timeStamp)\n",
    "        \n",
    "df_neutor['Datum'] = pd.to_datetime(df_neutor['Zeit']).date()\n",
    "df_neutor['Zeit'] = pd.to_datetime(df_neutor['Zeit']).dt.time\n",
    "    \n",
    "df_neutor = df_neutor.drop(columns='Unnamed: 0')\n",
    "\n",
    "print(df_neutor.head)"
   ]
  },
  {
   "cell_type": "code",
   "execution_count": null,
   "metadata": {},
   "outputs": [],
   "source": [
    "e = df_neutor['Datum'][0]"
   ]
  },
  {
   "cell_type": "code",
   "execution_count": null,
   "metadata": {},
   "outputs": [],
   "source": [
    "import pandas as pd\n",
    "\n",
    "d='2015-01-08 22:44:09' \n",
    "date=pd.to_datetime(d).date()\n",
    "print(date)"
   ]
  },
  {
   "cell_type": "code",
   "execution_count": 2,
   "metadata": {},
   "outputs": [
    {
     "name": "stdout",
     "output_type": "stream",
     "text": [
      "None\n"
     ]
    }
   ],
   "source": [
    "print(df_neutor_last_week)"
   ]
  },
  {
   "cell_type": "code",
   "execution_count": 10,
   "metadata": {},
   "outputs": [
    {
     "name": "stdout",
     "output_type": "stream",
     "text": [
      "         Datum  Neutor  Neutor FR stadteinwärts  Neutor FR stadtauswärts   \n",
      "127 2020-05-07  8951.0                   4561.0                   4390.0  \\\n",
      "128 2020-05-08  8819.0                   4641.0                   4178.0   \n",
      "129 2020-05-09  7734.0                   3976.0                   3758.0   \n",
      "130 2020-05-10  3792.0                   1909.0                   1883.0   \n",
      "131 2020-05-11  6827.0                   3374.0                   3453.0   \n",
      "132 2020-05-12  7782.0                   3850.0                   3932.0   \n",
      "133 2020-05-13  8366.0                   4186.0                   4180.0   \n",
      "\n",
      "     Wochentag  \n",
      "127   Thursday  \n",
      "128     Friday  \n",
      "129   Saturday  \n",
      "130     Sunday  \n",
      "131     Monday  \n",
      "132    Tuesday  \n",
      "133  Wednesday  \n"
     ]
    }
   ],
   "source": [
    "print(df_neutor_last_week)"
   ]
  },
  {
   "cell_type": "code",
   "execution_count": null,
   "metadata": {},
   "outputs": [],
   "source": []
  }
 ],
 "metadata": {
  "kernelspec": {
   "display_name": "venv",
   "language": "python",
   "name": "python3"
  },
  "language_info": {
   "codemirror_mode": {
    "name": "ipython",
    "version": 3
   },
   "file_extension": ".py",
   "mimetype": "text/x-python",
   "name": "python",
   "nbconvert_exporter": "python",
   "pygments_lexer": "ipython3",
   "version": "3.8.8"
  },
  "orig_nbformat": 4
 },
 "nbformat": 4,
 "nbformat_minor": 2
}
