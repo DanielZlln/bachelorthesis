{
 "cells": [
  {
   "cell_type": "code",
   "execution_count": 2,
   "metadata": {},
   "outputs": [],
   "source": [
    "import pandas as pd\n",
    "from dateutil.relativedelta import relativedelta\n",
    "from datetime import datetime, timedelta, date\n",
    "\n",
    "def load_data():\n",
    "    neutor_xlsx = pd.read_excel('/Users/danielzellner/Documents/Studium/Bachelorthesis/src/Zaehlstelle_Neutor_2020_Stundenauswertung.xlsx', \n",
    "                                sheet_name=None, \n",
    "                                skiprows=2,\n",
    "                                skipfooter=1,\n",
    "                                engine='openpyxl')\n",
    "\n",
    "    df_neutor = pd.concat(neutor_xlsx.values(), ignore_index=True)\n",
    "    \n",
    "    #df_neutor['Datum'] = datetime.strftime(df_neutor['Zeit'], '%Y-%m-%d')\n",
    "    df_neutor['Datum'] = pd.to_datetime(df_neutor['Zeit'], format='%Y-%m-%d').dt.date.astype(str)\n",
    "    df_neutor['Zeit'] = pd.to_datetime(df_neutor['Zeit']).dt.time\n",
    "    \n",
    "    df_neutor = df_neutor.drop(columns='Unnamed: 0')\n",
    "    \n",
    "    return df_neutor\n",
    "    \n",
    "def neutor_weekday():\n",
    "    \n",
    "    df_neutor = load_data()\n",
    "    \n",
    "    # Variable fuer Neutor und mean\n",
    "    \n",
    "    df_neutor_weekday = df_neutor.groupby('Datum', dropna=False).agg({'Neutor': 'sum', \n",
    "                                                                      'Neutor FR stadteinwärts': 'sum',\n",
    "                                                                      'Neutor FR stadtauswärts': 'sum'})\n",
    "    df_neutor_weekday.index = pd.to_datetime(df_neutor_weekday.index)\n",
    "    df_neutor_weekday['Wochentag'] = df_neutor_weekday.index.day_name()\n",
    "    \n",
    "    df_neutor_weekday = df_neutor_weekday.reset_index()\n",
    "    \n",
    "    return df_neutor_weekday\n",
    "\n",
    "def neutor_last_week():\n",
    "    df_neutor_weekday = neutor_weekday()\n",
    "    \n",
    "    to_day = date.today()\n",
    "    new_to_day = to_day + relativedelta(years=-3)\n",
    "    last_week = date.today() - timedelta(days=7)\n",
    "    new_date = last_week + relativedelta(years=-3)\n",
    "\n",
    "    new_date = pd.to_datetime(new_date)\n",
    "    last_week = pd.to_datetime(last_week)\n",
    "    new_to_day = pd.to_datetime(new_to_day)\n",
    "\n",
    "\n",
    "    df_neutor_last_week = df_neutor_weekday.loc[\n",
    "        (df_neutor_weekday['Datum'] >= new_date) &\n",
    "        (df_neutor_weekday['Datum'] < last_week) &\n",
    "        (df_neutor_weekday['Datum'] < new_to_day)\n",
    "    ]\n",
    "\n",
    "    return df_neutor_last_week\n",
    "\n",
    "if __name__ == \"__main__\":\n",
    "    df_neutor = load_data()\n",
    "    df_neutor_weekday = neutor_weekday()\n",
    "    df_neutor_last_week = neutor_last_week()"
   ]
  },
  {
   "cell_type": "code",
   "execution_count": null,
   "metadata": {},
   "outputs": [
    {
     "ename": "TypeError",
     "evalue": "'NoneType' object is not subscriptable",
     "output_type": "error",
     "traceback": [
      "\u001b[0;31m---------------------------------------------------------------------------\u001b[0m",
      "\u001b[0;31mTypeError\u001b[0m                                 Traceback (most recent call last)",
      "Cell \u001b[0;32mIn[26], line 4\u001b[0m\n\u001b[1;32m      1\u001b[0m fig \u001b[39m=\u001b[39m go\u001b[39m.\u001b[39mFigure(\n\u001b[1;32m      2\u001b[0m     data\u001b[39m=\u001b[39m[\n\u001b[1;32m      3\u001b[0m         go\u001b[39m.\u001b[39mBar(\n\u001b[0;32m----> 4\u001b[0m             x\u001b[39m=\u001b[39mdf_neutor_last_week[\u001b[39m'\u001b[39;49m\u001b[39mDatum\u001b[39;49m\u001b[39m'\u001b[39;49m],\n\u001b[1;32m      5\u001b[0m             y\u001b[39m=\u001b[39mdf_neutor_last_week[\u001b[39m'\u001b[39m\u001b[39mNeutor FR stadteinwärts\u001b[39m\u001b[39m'\u001b[39m],\n\u001b[1;32m      6\u001b[0m             offsetgroup\u001b[39m=\u001b[39m\u001b[39m0\u001b[39m\n\u001b[1;32m      7\u001b[0m         ),\n\u001b[1;32m      8\u001b[0m         go\u001b[39m.\u001b[39mBar(\n\u001b[1;32m      9\u001b[0m             x\u001b[39m=\u001b[39mdf_neutor_last_week[\u001b[39m'\u001b[39m\u001b[39mDatum\u001b[39m\u001b[39m'\u001b[39m],\n\u001b[1;32m     10\u001b[0m             y\u001b[39m=\u001b[39mdf_neutor_last_week[\u001b[39m'\u001b[39m\u001b[39mNeutor FR stadtauswärts\u001b[39m\u001b[39m'\u001b[39m],\n\u001b[1;32m     11\u001b[0m             offsetgroup\u001b[39m=\u001b[39m\u001b[39m1\u001b[39m\n\u001b[1;32m     12\u001b[0m         )\n\u001b[1;32m     13\u001b[0m     ]\n\u001b[1;32m     14\u001b[0m )\n\u001b[1;32m     15\u001b[0m fig\u001b[39m.\u001b[39mshow()\n",
      "\u001b[0;31mTypeError\u001b[0m: 'NoneType' object is not subscriptable"
     ]
    }
   ],
   "source": [
    "fig = go.Figure(\n",
    "    data=[\n",
    "        go.Bar(\n",
    "            x=df_neutor_last_week['Datum'],\n",
    "            y=df_neutor_last_week['Neutor FR stadteinwärts'],\n",
    "            offsetgroup=0\n",
    "        ),\n",
    "        go.Bar(\n",
    "            x=df_neutor_last_week['Datum'],\n",
    "            y=df_neutor_last_week['Neutor FR stadtauswärts'],\n",
    "            offsetgroup=1\n",
    "        )\n",
    "    ]\n",
    ")\n",
    "fig.show()"
   ]
  },
  {
   "cell_type": "code",
   "execution_count": null,
   "metadata": {},
   "outputs": [
    {
     "name": "stdout",
     "output_type": "stream",
     "text": [
      "None\n"
     ]
    }
   ],
   "source": [
    "print(df_neutor_last_week)"
   ]
  },
  {
   "cell_type": "code",
   "execution_count": 6,
   "metadata": {},
   "outputs": [
    {
     "name": "stdout",
     "output_type": "stream",
     "text": [
      "Dash is running on http://127.0.0.1:8050/\n",
      "\n",
      " * Serving Flask app '__main__'\n",
      " * Debug mode: off\n"
     ]
    },
    {
     "name": "stderr",
     "output_type": "stream",
     "text": [
      "\u001b[31m\u001b[1mWARNING: This is a development server. Do not use it in a production deployment. Use a production WSGI server instead.\u001b[0m\n",
      " * Running on http://127.0.0.1:8050\n",
      "\u001b[33mPress CTRL+C to quit\u001b[0m\n",
      "127.0.0.1 - - [18/May/2023 15:50:22] \"GET / HTTP/1.1\" 200 -\n",
      "127.0.0.1 - - [18/May/2023 15:50:22] \"\u001b[36mGET /assets/style.css?m=1684158671.2483714 HTTP/1.1\u001b[0m\" 304 -\n",
      "127.0.0.1 - - [18/May/2023 15:50:22] \"GET /_dash-layout HTTP/1.1\" 200 -\n",
      "127.0.0.1 - - [18/May/2023 15:50:22] \"GET /_dash-dependencies HTTP/1.1\" 200 -\n",
      "127.0.0.1 - - [18/May/2023 15:50:22] \"\u001b[36mGET /_dash-component-suites/dash/dcc/async-graph.js HTTP/1.1\u001b[0m\" 304 -\n",
      "127.0.0.1 - - [18/May/2023 15:50:22] \"\u001b[36mGET /_dash-component-suites/dash/dcc/async-plotlyjs.js HTTP/1.1\u001b[0m\" 304 -\n"
     ]
    }
   ],
   "source": [
    "import plotly.graph_objects as go\n",
    "from plotly.subplots import make_subplots\n",
    "import plotly.express as px\n",
    "import dash\n",
    "from dash import Dash, dcc, html, Input, Output\n",
    "\n",
    "df_neutor_weekday = neutor_weekday()\n",
    "df_neutor_last_week = neutor_last_week()\n",
    "\n",
    "app = Dash(__name__)\n",
    "\n",
    "app.layout = html.Div(children=[\n",
    "    html.Div([ \n",
    "        dcc.Graph(id='tip-graph'),\n",
    "        dcc.Graph(id='second-graph'),  # Neuer Graph\n",
    "        ]),\n",
    "    ])\n",
    "\n",
    "@app.callback(\n",
    "    Output('graph-with-slider', 'figure'),\n",
    "    Input('yaxis-column', 'value'))\n",
    "def update_figure(selected_column):\n",
    "    fig = px.box(df_neutor_weekday, x='Wochentag', y=selected_column, points='all')\n",
    "    #fig.update_layout(transition_duration=500)\n",
    "    return fig\n",
    "\n",
    "@app.callback(\n",
    "    Output('second-graph', 'figure'))  # Callback-Methode für den zweiten Plot\n",
    "def update_second_figure():\n",
    "    fig = go.Figure()\n",
    "\n",
    "    fig = fig.add_trace(\n",
    "                go.Bar(\n",
    "                    name='SE',\n",
    "                    x=df_neutor_last_week['Datum'],\n",
    "                    y=df_neutor_last_week['Neutor FR stadteinwärts'],\n",
    "                    offsetgroup=0\n",
    "                )\n",
    "        )\n",
    "    fig.add_trace(\n",
    "            go.Bar(\n",
    "                    name='SA',\n",
    "                    x=df_neutor_last_week['Datum'],\n",
    "                    y=df_neutor_last_week['Neutor FR stadtauswärts'],\n",
    "                    offsetgroup=0,\n",
    "                    base=df_neutor_last_week['Neutor FR stadteinwärts']\n",
    "            )\n",
    "    )\n",
    "    return fig\n",
    "\n",
    "if __name__ == '__main__':\n",
    "    app.run_server(debug=False)"
   ]
  },
  {
   "cell_type": "code",
   "execution_count": 44,
   "metadata": {},
   "outputs": [
    {
     "name": "stdout",
     "output_type": "stream",
     "text": [
      "         Datum  Neutor  Neutor FR stadteinwärts  Neutor FR stadtauswärts   \n",
      "128 2020-05-08  8819.0                   4641.0                   4178.0  \\\n",
      "129 2020-05-09  7734.0                   3976.0                   3758.0   \n",
      "130 2020-05-10  3792.0                   1909.0                   1883.0   \n",
      "131 2020-05-11  6827.0                   3374.0                   3453.0   \n",
      "132 2020-05-12  7782.0                   3850.0                   3932.0   \n",
      "133 2020-05-13  8366.0                   4186.0                   4180.0   \n",
      "134 2020-05-14  8673.0                   4302.0                   4371.0   \n",
      "\n",
      "     Wochentag  \n",
      "128     Friday  \n",
      "129   Saturday  \n",
      "130     Sunday  \n",
      "131     Monday  \n",
      "132    Tuesday  \n",
      "133  Wednesday  \n",
      "134   Thursday  \n"
     ]
    }
   ],
   "source": [
    "print(df_neutor_last_week)"
   ]
  },
  {
   "cell_type": "code",
   "execution_count": 4,
   "metadata": {},
   "outputs": [
    {
     "data": {
      "application/vnd.plotly.v1+json": {
       "config": {
        "plotlyServerURL": "https://plot.ly"
       },
       "data": [
        {
         "name": "SE",
         "offsetgroup": "0",
         "type": "bar",
         "x": [
          "2020-05-11T00:00:00",
          "2020-05-12T00:00:00",
          "2020-05-13T00:00:00",
          "2020-05-14T00:00:00",
          "2020-05-15T00:00:00",
          "2020-05-16T00:00:00",
          "2020-05-17T00:00:00"
         ],
         "y": [
          3374,
          3850,
          4186,
          4302,
          4312,
          3670,
          2797
         ]
        },
        {
         "base": [
          3374,
          3850,
          4186,
          4302,
          4312,
          3670,
          2797
         ],
         "name": "SA",
         "offsetgroup": "0",
         "type": "bar",
         "x": [
          "2020-05-11T00:00:00",
          "2020-05-12T00:00:00",
          "2020-05-13T00:00:00",
          "2020-05-14T00:00:00",
          "2020-05-15T00:00:00",
          "2020-05-16T00:00:00",
          "2020-05-17T00:00:00"
         ],
         "y": [
          3453,
          3932,
          4180,
          4371,
          4175,
          3614,
          2895
         ]
        }
       ],
       "layout": {
        "template": {
         "data": {
          "bar": [
           {
            "error_x": {
             "color": "#2a3f5f"
            },
            "error_y": {
             "color": "#2a3f5f"
            },
            "marker": {
             "line": {
              "color": "#E5ECF6",
              "width": 0.5
             },
             "pattern": {
              "fillmode": "overlay",
              "size": 10,
              "solidity": 0.2
             }
            },
            "type": "bar"
           }
          ],
          "barpolar": [
           {
            "marker": {
             "line": {
              "color": "#E5ECF6",
              "width": 0.5
             },
             "pattern": {
              "fillmode": "overlay",
              "size": 10,
              "solidity": 0.2
             }
            },
            "type": "barpolar"
           }
          ],
          "carpet": [
           {
            "aaxis": {
             "endlinecolor": "#2a3f5f",
             "gridcolor": "white",
             "linecolor": "white",
             "minorgridcolor": "white",
             "startlinecolor": "#2a3f5f"
            },
            "baxis": {
             "endlinecolor": "#2a3f5f",
             "gridcolor": "white",
             "linecolor": "white",
             "minorgridcolor": "white",
             "startlinecolor": "#2a3f5f"
            },
            "type": "carpet"
           }
          ],
          "choropleth": [
           {
            "colorbar": {
             "outlinewidth": 0,
             "ticks": ""
            },
            "type": "choropleth"
           }
          ],
          "contour": [
           {
            "colorbar": {
             "outlinewidth": 0,
             "ticks": ""
            },
            "colorscale": [
             [
              0,
              "#0d0887"
             ],
             [
              0.1111111111111111,
              "#46039f"
             ],
             [
              0.2222222222222222,
              "#7201a8"
             ],
             [
              0.3333333333333333,
              "#9c179e"
             ],
             [
              0.4444444444444444,
              "#bd3786"
             ],
             [
              0.5555555555555556,
              "#d8576b"
             ],
             [
              0.6666666666666666,
              "#ed7953"
             ],
             [
              0.7777777777777778,
              "#fb9f3a"
             ],
             [
              0.8888888888888888,
              "#fdca26"
             ],
             [
              1,
              "#f0f921"
             ]
            ],
            "type": "contour"
           }
          ],
          "contourcarpet": [
           {
            "colorbar": {
             "outlinewidth": 0,
             "ticks": ""
            },
            "type": "contourcarpet"
           }
          ],
          "heatmap": [
           {
            "colorbar": {
             "outlinewidth": 0,
             "ticks": ""
            },
            "colorscale": [
             [
              0,
              "#0d0887"
             ],
             [
              0.1111111111111111,
              "#46039f"
             ],
             [
              0.2222222222222222,
              "#7201a8"
             ],
             [
              0.3333333333333333,
              "#9c179e"
             ],
             [
              0.4444444444444444,
              "#bd3786"
             ],
             [
              0.5555555555555556,
              "#d8576b"
             ],
             [
              0.6666666666666666,
              "#ed7953"
             ],
             [
              0.7777777777777778,
              "#fb9f3a"
             ],
             [
              0.8888888888888888,
              "#fdca26"
             ],
             [
              1,
              "#f0f921"
             ]
            ],
            "type": "heatmap"
           }
          ],
          "heatmapgl": [
           {
            "colorbar": {
             "outlinewidth": 0,
             "ticks": ""
            },
            "colorscale": [
             [
              0,
              "#0d0887"
             ],
             [
              0.1111111111111111,
              "#46039f"
             ],
             [
              0.2222222222222222,
              "#7201a8"
             ],
             [
              0.3333333333333333,
              "#9c179e"
             ],
             [
              0.4444444444444444,
              "#bd3786"
             ],
             [
              0.5555555555555556,
              "#d8576b"
             ],
             [
              0.6666666666666666,
              "#ed7953"
             ],
             [
              0.7777777777777778,
              "#fb9f3a"
             ],
             [
              0.8888888888888888,
              "#fdca26"
             ],
             [
              1,
              "#f0f921"
             ]
            ],
            "type": "heatmapgl"
           }
          ],
          "histogram": [
           {
            "marker": {
             "pattern": {
              "fillmode": "overlay",
              "size": 10,
              "solidity": 0.2
             }
            },
            "type": "histogram"
           }
          ],
          "histogram2d": [
           {
            "colorbar": {
             "outlinewidth": 0,
             "ticks": ""
            },
            "colorscale": [
             [
              0,
              "#0d0887"
             ],
             [
              0.1111111111111111,
              "#46039f"
             ],
             [
              0.2222222222222222,
              "#7201a8"
             ],
             [
              0.3333333333333333,
              "#9c179e"
             ],
             [
              0.4444444444444444,
              "#bd3786"
             ],
             [
              0.5555555555555556,
              "#d8576b"
             ],
             [
              0.6666666666666666,
              "#ed7953"
             ],
             [
              0.7777777777777778,
              "#fb9f3a"
             ],
             [
              0.8888888888888888,
              "#fdca26"
             ],
             [
              1,
              "#f0f921"
             ]
            ],
            "type": "histogram2d"
           }
          ],
          "histogram2dcontour": [
           {
            "colorbar": {
             "outlinewidth": 0,
             "ticks": ""
            },
            "colorscale": [
             [
              0,
              "#0d0887"
             ],
             [
              0.1111111111111111,
              "#46039f"
             ],
             [
              0.2222222222222222,
              "#7201a8"
             ],
             [
              0.3333333333333333,
              "#9c179e"
             ],
             [
              0.4444444444444444,
              "#bd3786"
             ],
             [
              0.5555555555555556,
              "#d8576b"
             ],
             [
              0.6666666666666666,
              "#ed7953"
             ],
             [
              0.7777777777777778,
              "#fb9f3a"
             ],
             [
              0.8888888888888888,
              "#fdca26"
             ],
             [
              1,
              "#f0f921"
             ]
            ],
            "type": "histogram2dcontour"
           }
          ],
          "mesh3d": [
           {
            "colorbar": {
             "outlinewidth": 0,
             "ticks": ""
            },
            "type": "mesh3d"
           }
          ],
          "parcoords": [
           {
            "line": {
             "colorbar": {
              "outlinewidth": 0,
              "ticks": ""
             }
            },
            "type": "parcoords"
           }
          ],
          "pie": [
           {
            "automargin": true,
            "type": "pie"
           }
          ],
          "scatter": [
           {
            "fillpattern": {
             "fillmode": "overlay",
             "size": 10,
             "solidity": 0.2
            },
            "type": "scatter"
           }
          ],
          "scatter3d": [
           {
            "line": {
             "colorbar": {
              "outlinewidth": 0,
              "ticks": ""
             }
            },
            "marker": {
             "colorbar": {
              "outlinewidth": 0,
              "ticks": ""
             }
            },
            "type": "scatter3d"
           }
          ],
          "scattercarpet": [
           {
            "marker": {
             "colorbar": {
              "outlinewidth": 0,
              "ticks": ""
             }
            },
            "type": "scattercarpet"
           }
          ],
          "scattergeo": [
           {
            "marker": {
             "colorbar": {
              "outlinewidth": 0,
              "ticks": ""
             }
            },
            "type": "scattergeo"
           }
          ],
          "scattergl": [
           {
            "marker": {
             "colorbar": {
              "outlinewidth": 0,
              "ticks": ""
             }
            },
            "type": "scattergl"
           }
          ],
          "scattermapbox": [
           {
            "marker": {
             "colorbar": {
              "outlinewidth": 0,
              "ticks": ""
             }
            },
            "type": "scattermapbox"
           }
          ],
          "scatterpolar": [
           {
            "marker": {
             "colorbar": {
              "outlinewidth": 0,
              "ticks": ""
             }
            },
            "type": "scatterpolar"
           }
          ],
          "scatterpolargl": [
           {
            "marker": {
             "colorbar": {
              "outlinewidth": 0,
              "ticks": ""
             }
            },
            "type": "scatterpolargl"
           }
          ],
          "scatterternary": [
           {
            "marker": {
             "colorbar": {
              "outlinewidth": 0,
              "ticks": ""
             }
            },
            "type": "scatterternary"
           }
          ],
          "surface": [
           {
            "colorbar": {
             "outlinewidth": 0,
             "ticks": ""
            },
            "colorscale": [
             [
              0,
              "#0d0887"
             ],
             [
              0.1111111111111111,
              "#46039f"
             ],
             [
              0.2222222222222222,
              "#7201a8"
             ],
             [
              0.3333333333333333,
              "#9c179e"
             ],
             [
              0.4444444444444444,
              "#bd3786"
             ],
             [
              0.5555555555555556,
              "#d8576b"
             ],
             [
              0.6666666666666666,
              "#ed7953"
             ],
             [
              0.7777777777777778,
              "#fb9f3a"
             ],
             [
              0.8888888888888888,
              "#fdca26"
             ],
             [
              1,
              "#f0f921"
             ]
            ],
            "type": "surface"
           }
          ],
          "table": [
           {
            "cells": {
             "fill": {
              "color": "#EBF0F8"
             },
             "line": {
              "color": "white"
             }
            },
            "header": {
             "fill": {
              "color": "#C8D4E3"
             },
             "line": {
              "color": "white"
             }
            },
            "type": "table"
           }
          ]
         },
         "layout": {
          "annotationdefaults": {
           "arrowcolor": "#2a3f5f",
           "arrowhead": 0,
           "arrowwidth": 1
          },
          "autotypenumbers": "strict",
          "coloraxis": {
           "colorbar": {
            "outlinewidth": 0,
            "ticks": ""
           }
          },
          "colorscale": {
           "diverging": [
            [
             0,
             "#8e0152"
            ],
            [
             0.1,
             "#c51b7d"
            ],
            [
             0.2,
             "#de77ae"
            ],
            [
             0.3,
             "#f1b6da"
            ],
            [
             0.4,
             "#fde0ef"
            ],
            [
             0.5,
             "#f7f7f7"
            ],
            [
             0.6,
             "#e6f5d0"
            ],
            [
             0.7,
             "#b8e186"
            ],
            [
             0.8,
             "#7fbc41"
            ],
            [
             0.9,
             "#4d9221"
            ],
            [
             1,
             "#276419"
            ]
           ],
           "sequential": [
            [
             0,
             "#0d0887"
            ],
            [
             0.1111111111111111,
             "#46039f"
            ],
            [
             0.2222222222222222,
             "#7201a8"
            ],
            [
             0.3333333333333333,
             "#9c179e"
            ],
            [
             0.4444444444444444,
             "#bd3786"
            ],
            [
             0.5555555555555556,
             "#d8576b"
            ],
            [
             0.6666666666666666,
             "#ed7953"
            ],
            [
             0.7777777777777778,
             "#fb9f3a"
            ],
            [
             0.8888888888888888,
             "#fdca26"
            ],
            [
             1,
             "#f0f921"
            ]
           ],
           "sequentialminus": [
            [
             0,
             "#0d0887"
            ],
            [
             0.1111111111111111,
             "#46039f"
            ],
            [
             0.2222222222222222,
             "#7201a8"
            ],
            [
             0.3333333333333333,
             "#9c179e"
            ],
            [
             0.4444444444444444,
             "#bd3786"
            ],
            [
             0.5555555555555556,
             "#d8576b"
            ],
            [
             0.6666666666666666,
             "#ed7953"
            ],
            [
             0.7777777777777778,
             "#fb9f3a"
            ],
            [
             0.8888888888888888,
             "#fdca26"
            ],
            [
             1,
             "#f0f921"
            ]
           ]
          },
          "colorway": [
           "#636efa",
           "#EF553B",
           "#00cc96",
           "#ab63fa",
           "#FFA15A",
           "#19d3f3",
           "#FF6692",
           "#B6E880",
           "#FF97FF",
           "#FECB52"
          ],
          "font": {
           "color": "#2a3f5f"
          },
          "geo": {
           "bgcolor": "white",
           "lakecolor": "white",
           "landcolor": "#E5ECF6",
           "showlakes": true,
           "showland": true,
           "subunitcolor": "white"
          },
          "hoverlabel": {
           "align": "left"
          },
          "hovermode": "closest",
          "mapbox": {
           "style": "light"
          },
          "paper_bgcolor": "white",
          "plot_bgcolor": "#E5ECF6",
          "polar": {
           "angularaxis": {
            "gridcolor": "white",
            "linecolor": "white",
            "ticks": ""
           },
           "bgcolor": "#E5ECF6",
           "radialaxis": {
            "gridcolor": "white",
            "linecolor": "white",
            "ticks": ""
           }
          },
          "scene": {
           "xaxis": {
            "backgroundcolor": "#E5ECF6",
            "gridcolor": "white",
            "gridwidth": 2,
            "linecolor": "white",
            "showbackground": true,
            "ticks": "",
            "zerolinecolor": "white"
           },
           "yaxis": {
            "backgroundcolor": "#E5ECF6",
            "gridcolor": "white",
            "gridwidth": 2,
            "linecolor": "white",
            "showbackground": true,
            "ticks": "",
            "zerolinecolor": "white"
           },
           "zaxis": {
            "backgroundcolor": "#E5ECF6",
            "gridcolor": "white",
            "gridwidth": 2,
            "linecolor": "white",
            "showbackground": true,
            "ticks": "",
            "zerolinecolor": "white"
           }
          },
          "shapedefaults": {
           "line": {
            "color": "#2a3f5f"
           }
          },
          "ternary": {
           "aaxis": {
            "gridcolor": "white",
            "linecolor": "white",
            "ticks": ""
           },
           "baxis": {
            "gridcolor": "white",
            "linecolor": "white",
            "ticks": ""
           },
           "bgcolor": "#E5ECF6",
           "caxis": {
            "gridcolor": "white",
            "linecolor": "white",
            "ticks": ""
           }
          },
          "title": {
           "x": 0.05
          },
          "xaxis": {
           "automargin": true,
           "gridcolor": "white",
           "linecolor": "white",
           "ticks": "",
           "title": {
            "standoff": 15
           },
           "zerolinecolor": "white",
           "zerolinewidth": 2
          },
          "yaxis": {
           "automargin": true,
           "gridcolor": "white",
           "linecolor": "white",
           "ticks": "",
           "title": {
            "standoff": 15
           },
           "zerolinecolor": "white",
           "zerolinewidth": 2
          }
         }
        }
       }
      }
     },
     "metadata": {},
     "output_type": "display_data"
    }
   ],
   "source": [
    "fig = go.Figure()\n",
    "\n",
    "fig = fig.add_trace(\n",
    "            go.Bar(\n",
    "                name='SE',\n",
    "                x=df_neutor_last_week['Datum'],\n",
    "                y=df_neutor_last_week['Neutor FR stadteinwärts'],\n",
    "                offsetgroup=0\n",
    "            )\n",
    "    )\n",
    "fig.add_trace(\n",
    "        go.Bar(\n",
    "                name='SA',\n",
    "                x=df_neutor_last_week['Datum'],\n",
    "                y=df_neutor_last_week['Neutor FR stadtauswärts'],\n",
    "                offsetgroup=0,\n",
    "                base=df_neutor_last_week['Neutor FR stadteinwärts']\n",
    "        )\n",
    ")"
   ]
  },
  {
   "cell_type": "code",
   "execution_count": 56,
   "metadata": {},
   "outputs": [
    {
     "name": "stdout",
     "output_type": "stream",
     "text": [
      "Dash is running on http://127.0.0.1:8050/\n",
      "\n",
      " * Serving Flask app '__main__'\n",
      " * Debug mode: off\n"
     ]
    },
    {
     "name": "stderr",
     "output_type": "stream",
     "text": [
      "\u001b[31m\u001b[1mWARNING: This is a development server. Do not use it in a production deployment. Use a production WSGI server instead.\u001b[0m\n",
      " * Running on http://127.0.0.1:8050\n",
      "\u001b[33mPress CTRL+C to quit\u001b[0m\n",
      "127.0.0.1 - - [15/May/2023 14:31:14] \"GET / HTTP/1.1\" 200 -\n",
      "127.0.0.1 - - [15/May/2023 14:31:14] \"GET /_dash-layout HTTP/1.1\" 200 -\n",
      "127.0.0.1 - - [15/May/2023 14:31:14] \"GET /_dash-dependencies HTTP/1.1\" 200 -\n",
      "127.0.0.1 - - [15/May/2023 14:31:14] \"\u001b[36mGET /_dash-component-suites/dash/dcc/async-graph.js HTTP/1.1\u001b[0m\" 304 -\n",
      "127.0.0.1 - - [15/May/2023 14:31:14] \"\u001b[36mGET /_dash-component-suites/dash/dcc/async-dropdown.js HTTP/1.1\u001b[0m\" 304 -\n",
      "127.0.0.1 - - [15/May/2023 14:31:14] \"\u001b[36mGET /_dash-component-suites/dash/dcc/async-plotlyjs.js HTTP/1.1\u001b[0m\" 304 -\n"
     ]
    }
   ],
   "source": [
    "import plotly.graph_objects as go\n",
    "import plotly.express as px\n",
    "import dash\n",
    "from dash import Dash, dcc, html, Input, Output\n",
    "\n",
    "df_neutor_weekday = neutor_weekday()\n",
    "df_neutor_last_week = neutor_last_week()\n",
    "\n",
    "app = Dash(__name__)\n",
    "\n",
    "app.layout = html.Div(children=[\n",
    "    html.Div([\n",
    "        dcc.Graph(id='graph-with-slider'),\n",
    "        html.Div([\n",
    "            dcc.Dropdown(\n",
    "                options=[\n",
    "                    {'label': 'Neutor', 'value': 'Neutor'},\n",
    "                    {'label': 'Neutor EW', 'value': 'Neutor FR stadteinwärts'},\n",
    "                    {'label': 'Neutor AW', 'value': 'Neutor FR stadtauswärts'}\n",
    "                ],\n",
    "                value='Neutor',\n",
    "                id='yaxis-column'\n",
    "            )\n",
    "        ])\n",
    "    ]),\n",
    "    html.Div([\n",
    "        dcc.Graph(id='second-graph')  # Neuer Graph\n",
    "    ]),\n",
    "])\n",
    "\n",
    "@app.callback(\n",
    "    Output('graph-with-slider', 'figure'),\n",
    "    Input('yaxis-column', 'value'))\n",
    "def update_figure(selected_column):\n",
    "    fig = px.box(df_neutor_weekday, x='Wochentag', y=selected_column, points='all')\n",
    "    return fig\n",
    "\n",
    "@app.callback(\n",
    "    Output('second-graph', 'figure'))  # Callback-Methode für den zweiten Plot\n",
    "def update_second_figure():\n",
    "    fig = go.Figure()\n",
    "\n",
    "    fig.add_trace(\n",
    "        go.Bar(\n",
    "            name='SE',\n",
    "            x=df_neutor_last_week['Datum'],\n",
    "            y=df_neutor_last_week['Neutor FR stadteinwärts'],\n",
    "            offsetgroup=0\n",
    "        )\n",
    "    )\n",
    "    fig.add_trace(\n",
    "        go.Bar(\n",
    "            name='SA',\n",
    "            x=df_neutor_last_week['Datum'],\n",
    "            y=df_neutor_last_week['Neutor FR stadtauswärts'],\n",
    "            offsetgroup=0,\n",
    "            base=df_neutor_last_week['Neutor FR stadteinwärts']\n",
    "        )\n",
    "    )\n",
    "    return fig\n",
    "\n",
    "if __name__ == '__main__':\n",
    "    app.run_server(debug=False)\n"
   ]
  },
  {
   "cell_type": "code",
   "execution_count": null,
   "metadata": {},
   "outputs": [],
   "source": [
    "# Import packages\n",
    "from dash import Dash, html, dash_table, dcc, callback, Output, Input\n",
    "import pandas as pd\n",
    "import plotly.express as px\n",
    "\n",
    "# Incorporate data\n",
    "df_neutor_weekday = neutor_weekday()\n",
    "df_neutor_last_week = neutor_last_week()\n",
    "\n",
    "# Initialize the app\n",
    "app = Dash(__name__)\n",
    "\n",
    "app.layout = html.Div(children=[\n",
    "    html.Div([\n",
    "        dcc.Graph(id='graph-with-slider'),\n",
    "        html.Div([\n",
    "            dcc.Dropdown(\n",
    "                options=[\n",
    "                    {'label': 'Neutor', 'value': 'Neutor'},\n",
    "                    {'label': 'Neutor EW', 'value': 'Neutor FR stadteinwärts'},\n",
    "                    {'label': 'Neutor AW', 'value': 'Neutor FR stadtauswärts'}\n",
    "                ],\n",
    "                value='Neutor',\n",
    "                id='yaxis-column'\n",
    "            )\n",
    "        ])\n",
    "    ]),\n",
    "    html.Div([ \n",
    "        dcc.Graph(id='tip-graph'),\n",
    "        dcc.Graph(id='second-graph'),  # Neuer Graph\n",
    "        ]),\n",
    "    ])\n",
    "\n",
    "# App layout\n",
    "app.layout = html.Div([\n",
    "    html.Div(children='My First App with Data, Graph, and Controls'),\n",
    "    html.Hr(),\n",
    "    dcc.RadioItems(options=['pop', 'lifeExp', 'gdpPercap'], value='lifeExp', id='controls-and-radio-item'),\n",
    "    dash_table.DataTable(data=df.to_dict('records'), page_size=6),\n",
    "    dcc.Graph(figure={}, id='controls-and-graph')\n",
    "])\n",
    "\n",
    "# Add controls to build the interaction\n",
    "@app.callback(\n",
    "    Output('graph-with-slider', 'figure'),\n",
    "    Input('yaxis-column', 'value'))\n",
    "def update_figure(selected_column):\n",
    "    fig = px.box(df_neutor_weekday, x='Wochentag', y=selected_column, points='all')\n",
    "\n",
    "# Run the app\n",
    "if __name__ == '__main__':\n",
    "    app.run_server(debug=True)"
   ]
  }
 ],
 "metadata": {
  "kernelspec": {
   "display_name": "venv",
   "language": "python",
   "name": "python3"
  },
  "language_info": {
   "codemirror_mode": {
    "name": "ipython",
    "version": 3
   },
   "file_extension": ".py",
   "mimetype": "text/x-python",
   "name": "python",
   "nbconvert_exporter": "python",
   "pygments_lexer": "ipython3",
   "version": "3.8.8"
  },
  "orig_nbformat": 4
 },
 "nbformat": 4,
 "nbformat_minor": 2
}
